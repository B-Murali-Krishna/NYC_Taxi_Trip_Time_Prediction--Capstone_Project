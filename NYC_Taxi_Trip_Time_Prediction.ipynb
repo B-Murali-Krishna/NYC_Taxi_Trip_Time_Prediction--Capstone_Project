{
  "nbformat": 4,
  "nbformat_minor": 0,
  "metadata": {
    "colab": {
      "name": "NYC_Taxi_Trip_Time_Prediction.ipynb",
      "provenance": [],
      "collapsed_sections": [],
      "authorship_tag": "ABX9TyM3mfbFJGTWOL5lpU73rrfV",
      "include_colab_link": true
    },
    "kernelspec": {
      "name": "python3",
      "display_name": "Python 3"
    },
    "language_info": {
      "name": "python"
    },
    "accelerator": "GPU"
  },
  "cells": [
    {
      "cell_type": "markdown",
      "metadata": {
        "id": "view-in-github",
        "colab_type": "text"
      },
      "source": [
        "<a href=\"https://colab.research.google.com/github/B-Murali-Krishna/NYC_Taxi_Trip_Time_Prediction--Capstone_Project/blob/main/NYC_Taxi_Trip_Time_Prediction.ipynb\" target=\"_parent\"><img src=\"https://colab.research.google.com/assets/colab-badge.svg\" alt=\"Open In Colab\"/></a>"
      ]
    },
    {
      "cell_type": "code",
      "metadata": {
        "id": "bgnEqxqUn8LI"
      },
      "source": [
        "import numpy as np\n",
        "import pandas as pd\n",
        "import seaborn as sns\n",
        "import matplotlib.pyplot as plt\n",
        "import datetime as dt\n",
        "import warnings; warnings.simplefilter('ignore')"
      ],
      "execution_count": 2,
      "outputs": []
    },
    {
      "cell_type": "code",
      "metadata": {
        "colab": {
          "base_uri": "https://localhost:8080/"
        },
        "id": "VbCWSPVRpExz",
        "outputId": "9eeeec35-d034-4d34-b4d0-bc2d2f239331"
      },
      "source": [
        "from google.colab import drive\n",
        "drive.mount('/content/drive',force_remount=True)"
      ],
      "execution_count": 3,
      "outputs": [
        {
          "output_type": "stream",
          "name": "stdout",
          "text": [
            "Mounted at /content/drive\n"
          ]
        }
      ]
    },
    {
      "cell_type": "markdown",
      "metadata": {
        "id": "qQk5vMvWqgob"
      },
      "source": [
        "## Data Loading"
      ]
    },
    {
      "cell_type": "code",
      "metadata": {
        "id": "sRGSqiaTpU69"
      },
      "source": [
        "data= pd.read_csv(\"/content/drive/MyDrive/Alma Better/AlmaBetter CapstoneProject/NYC Taxi Time Prediction Project/NYC Taxi Data.csv\")"
      ],
      "execution_count": 4,
      "outputs": []
    },
    {
      "cell_type": "code",
      "metadata": {
        "colab": {
          "base_uri": "https://localhost:8080/",
          "height": 309
        },
        "id": "2cJIVd4ipeGQ",
        "outputId": "442c1cd1-a797-4eb3-89ff-8c9d32a1b252"
      },
      "source": [
        "data.head(5)"
      ],
      "execution_count": 5,
      "outputs": [
        {
          "output_type": "execute_result",
          "data": {
            "text/html": [
              "<div>\n",
              "<style scoped>\n",
              "    .dataframe tbody tr th:only-of-type {\n",
              "        vertical-align: middle;\n",
              "    }\n",
              "\n",
              "    .dataframe tbody tr th {\n",
              "        vertical-align: top;\n",
              "    }\n",
              "\n",
              "    .dataframe thead th {\n",
              "        text-align: right;\n",
              "    }\n",
              "</style>\n",
              "<table border=\"1\" class=\"dataframe\">\n",
              "  <thead>\n",
              "    <tr style=\"text-align: right;\">\n",
              "      <th></th>\n",
              "      <th>id</th>\n",
              "      <th>vendor_id</th>\n",
              "      <th>pickup_datetime</th>\n",
              "      <th>dropoff_datetime</th>\n",
              "      <th>passenger_count</th>\n",
              "      <th>pickup_longitude</th>\n",
              "      <th>pickup_latitude</th>\n",
              "      <th>dropoff_longitude</th>\n",
              "      <th>dropoff_latitude</th>\n",
              "      <th>store_and_fwd_flag</th>\n",
              "      <th>trip_duration</th>\n",
              "    </tr>\n",
              "  </thead>\n",
              "  <tbody>\n",
              "    <tr>\n",
              "      <th>0</th>\n",
              "      <td>id2875421</td>\n",
              "      <td>2</td>\n",
              "      <td>2016-03-14 17:24:55</td>\n",
              "      <td>2016-03-14 17:32:30</td>\n",
              "      <td>1</td>\n",
              "      <td>-73.982155</td>\n",
              "      <td>40.767937</td>\n",
              "      <td>-73.964630</td>\n",
              "      <td>40.765602</td>\n",
              "      <td>N</td>\n",
              "      <td>455</td>\n",
              "    </tr>\n",
              "    <tr>\n",
              "      <th>1</th>\n",
              "      <td>id2377394</td>\n",
              "      <td>1</td>\n",
              "      <td>2016-06-12 00:43:35</td>\n",
              "      <td>2016-06-12 00:54:38</td>\n",
              "      <td>1</td>\n",
              "      <td>-73.980415</td>\n",
              "      <td>40.738564</td>\n",
              "      <td>-73.999481</td>\n",
              "      <td>40.731152</td>\n",
              "      <td>N</td>\n",
              "      <td>663</td>\n",
              "    </tr>\n",
              "    <tr>\n",
              "      <th>2</th>\n",
              "      <td>id3858529</td>\n",
              "      <td>2</td>\n",
              "      <td>2016-01-19 11:35:24</td>\n",
              "      <td>2016-01-19 12:10:48</td>\n",
              "      <td>1</td>\n",
              "      <td>-73.979027</td>\n",
              "      <td>40.763939</td>\n",
              "      <td>-74.005333</td>\n",
              "      <td>40.710087</td>\n",
              "      <td>N</td>\n",
              "      <td>2124</td>\n",
              "    </tr>\n",
              "    <tr>\n",
              "      <th>3</th>\n",
              "      <td>id3504673</td>\n",
              "      <td>2</td>\n",
              "      <td>2016-04-06 19:32:31</td>\n",
              "      <td>2016-04-06 19:39:40</td>\n",
              "      <td>1</td>\n",
              "      <td>-74.010040</td>\n",
              "      <td>40.719971</td>\n",
              "      <td>-74.012268</td>\n",
              "      <td>40.706718</td>\n",
              "      <td>N</td>\n",
              "      <td>429</td>\n",
              "    </tr>\n",
              "    <tr>\n",
              "      <th>4</th>\n",
              "      <td>id2181028</td>\n",
              "      <td>2</td>\n",
              "      <td>2016-03-26 13:30:55</td>\n",
              "      <td>2016-03-26 13:38:10</td>\n",
              "      <td>1</td>\n",
              "      <td>-73.973053</td>\n",
              "      <td>40.793209</td>\n",
              "      <td>-73.972923</td>\n",
              "      <td>40.782520</td>\n",
              "      <td>N</td>\n",
              "      <td>435</td>\n",
              "    </tr>\n",
              "  </tbody>\n",
              "</table>\n",
              "</div>"
            ],
            "text/plain": [
              "          id  vendor_id  ... store_and_fwd_flag trip_duration\n",
              "0  id2875421          2  ...                  N           455\n",
              "1  id2377394          1  ...                  N           663\n",
              "2  id3858529          2  ...                  N          2124\n",
              "3  id3504673          2  ...                  N           429\n",
              "4  id2181028          2  ...                  N           435\n",
              "\n",
              "[5 rows x 11 columns]"
            ]
          },
          "metadata": {},
          "execution_count": 5
        }
      ]
    },
    {
      "cell_type": "code",
      "metadata": {
        "colab": {
          "base_uri": "https://localhost:8080/"
        },
        "id": "_hz9eU4fpjlN",
        "outputId": "72915728-5d3b-4622-d018-f9fb6a690c7c"
      },
      "source": [
        "data.info()"
      ],
      "execution_count": 6,
      "outputs": [
        {
          "output_type": "stream",
          "name": "stdout",
          "text": [
            "<class 'pandas.core.frame.DataFrame'>\n",
            "RangeIndex: 1458644 entries, 0 to 1458643\n",
            "Data columns (total 11 columns):\n",
            " #   Column              Non-Null Count    Dtype  \n",
            "---  ------              --------------    -----  \n",
            " 0   id                  1458644 non-null  object \n",
            " 1   vendor_id           1458644 non-null  int64  \n",
            " 2   pickup_datetime     1458644 non-null  object \n",
            " 3   dropoff_datetime    1458644 non-null  object \n",
            " 4   passenger_count     1458644 non-null  int64  \n",
            " 5   pickup_longitude    1458644 non-null  float64\n",
            " 6   pickup_latitude     1458644 non-null  float64\n",
            " 7   dropoff_longitude   1458644 non-null  float64\n",
            " 8   dropoff_latitude    1458644 non-null  float64\n",
            " 9   store_and_fwd_flag  1458644 non-null  object \n",
            " 10  trip_duration       1458644 non-null  int64  \n",
            "dtypes: float64(4), int64(3), object(4)\n",
            "memory usage: 122.4+ MB\n"
          ]
        }
      ]
    },
    {
      "cell_type": "markdown",
      "metadata": {
        "id": "Z0LN98M4pqRy"
      },
      "source": [
        "So we have 1458644 rows and 11 columns.\n",
        "\n",
        "4 categorical type and rest are numerical type."
      ]
    },
    {
      "cell_type": "code",
      "metadata": {
        "colab": {
          "base_uri": "https://localhost:8080/"
        },
        "id": "_AxWvgsYp4LX",
        "outputId": "02aa0f2d-b125-49de-a365-7626089d8773"
      },
      "source": [
        "data.isnull().sum()"
      ],
      "execution_count": 7,
      "outputs": [
        {
          "output_type": "execute_result",
          "data": {
            "text/plain": [
              "id                    0\n",
              "vendor_id             0\n",
              "pickup_datetime       0\n",
              "dropoff_datetime      0\n",
              "passenger_count       0\n",
              "pickup_longitude      0\n",
              "pickup_latitude       0\n",
              "dropoff_longitude     0\n",
              "dropoff_latitude      0\n",
              "store_and_fwd_flag    0\n",
              "trip_duration         0\n",
              "dtype: int64"
            ]
          },
          "metadata": {},
          "execution_count": 7
        }
      ]
    },
    {
      "cell_type": "markdown",
      "metadata": {
        "id": "WewFJaB0p_Td"
      },
      "source": [
        "Great no Null Values."
      ]
    },
    {
      "cell_type": "code",
      "metadata": {
        "id": "4mC8Jc0YqEJW"
      },
      "source": [
        "data['pickup_datetime'] = pd.to_datetime(data['pickup_datetime'])\n",
        "data['dropoff_datetime'] = pd.to_datetime(data['dropoff_datetime'])"
      ],
      "execution_count": 8,
      "outputs": []
    },
    {
      "cell_type": "markdown",
      "metadata": {
        "id": "yDcSztg9qZ6S"
      },
      "source": [
        "##Feature Creation"
      ]
    },
    {
      "cell_type": "code",
      "metadata": {
        "id": "Hi6qEh6-qdlo"
      },
      "source": [
        "data['pickup_weekday']=data['pickup_datetime'].dt.day_name()\n",
        "data['dropoff_weekday']=data['dropoff_datetime'].dt.day_name()\n",
        "data['pickup_weekday_num']=data['pickup_datetime'].dt.weekday\n",
        "data['pickup_hour']=data['pickup_datetime'].dt.hour\n",
        "data['month']=data['pickup_datetime'].dt.month"
      ],
      "execution_count": 9,
      "outputs": []
    },
    {
      "cell_type": "code",
      "metadata": {
        "colab": {
          "base_uri": "https://localhost:8080/",
          "height": 309
        },
        "id": "poFpXtNzqQwU",
        "outputId": "0fd8b63c-520f-4fc7-ee1b-b484a694b8d2"
      },
      "source": [
        "data.head()"
      ],
      "execution_count": 10,
      "outputs": [
        {
          "output_type": "execute_result",
          "data": {
            "text/html": [
              "<div>\n",
              "<style scoped>\n",
              "    .dataframe tbody tr th:only-of-type {\n",
              "        vertical-align: middle;\n",
              "    }\n",
              "\n",
              "    .dataframe tbody tr th {\n",
              "        vertical-align: top;\n",
              "    }\n",
              "\n",
              "    .dataframe thead th {\n",
              "        text-align: right;\n",
              "    }\n",
              "</style>\n",
              "<table border=\"1\" class=\"dataframe\">\n",
              "  <thead>\n",
              "    <tr style=\"text-align: right;\">\n",
              "      <th></th>\n",
              "      <th>id</th>\n",
              "      <th>vendor_id</th>\n",
              "      <th>pickup_datetime</th>\n",
              "      <th>dropoff_datetime</th>\n",
              "      <th>passenger_count</th>\n",
              "      <th>pickup_longitude</th>\n",
              "      <th>pickup_latitude</th>\n",
              "      <th>dropoff_longitude</th>\n",
              "      <th>dropoff_latitude</th>\n",
              "      <th>store_and_fwd_flag</th>\n",
              "      <th>trip_duration</th>\n",
              "      <th>pickup_weekday</th>\n",
              "      <th>dropoff_weekday</th>\n",
              "      <th>pickup_weekday_num</th>\n",
              "      <th>pickup_hour</th>\n",
              "      <th>month</th>\n",
              "    </tr>\n",
              "  </thead>\n",
              "  <tbody>\n",
              "    <tr>\n",
              "      <th>0</th>\n",
              "      <td>id2875421</td>\n",
              "      <td>2</td>\n",
              "      <td>2016-03-14 17:24:55</td>\n",
              "      <td>2016-03-14 17:32:30</td>\n",
              "      <td>1</td>\n",
              "      <td>-73.982155</td>\n",
              "      <td>40.767937</td>\n",
              "      <td>-73.964630</td>\n",
              "      <td>40.765602</td>\n",
              "      <td>N</td>\n",
              "      <td>455</td>\n",
              "      <td>Monday</td>\n",
              "      <td>Monday</td>\n",
              "      <td>0</td>\n",
              "      <td>17</td>\n",
              "      <td>3</td>\n",
              "    </tr>\n",
              "    <tr>\n",
              "      <th>1</th>\n",
              "      <td>id2377394</td>\n",
              "      <td>1</td>\n",
              "      <td>2016-06-12 00:43:35</td>\n",
              "      <td>2016-06-12 00:54:38</td>\n",
              "      <td>1</td>\n",
              "      <td>-73.980415</td>\n",
              "      <td>40.738564</td>\n",
              "      <td>-73.999481</td>\n",
              "      <td>40.731152</td>\n",
              "      <td>N</td>\n",
              "      <td>663</td>\n",
              "      <td>Sunday</td>\n",
              "      <td>Sunday</td>\n",
              "      <td>6</td>\n",
              "      <td>0</td>\n",
              "      <td>6</td>\n",
              "    </tr>\n",
              "    <tr>\n",
              "      <th>2</th>\n",
              "      <td>id3858529</td>\n",
              "      <td>2</td>\n",
              "      <td>2016-01-19 11:35:24</td>\n",
              "      <td>2016-01-19 12:10:48</td>\n",
              "      <td>1</td>\n",
              "      <td>-73.979027</td>\n",
              "      <td>40.763939</td>\n",
              "      <td>-74.005333</td>\n",
              "      <td>40.710087</td>\n",
              "      <td>N</td>\n",
              "      <td>2124</td>\n",
              "      <td>Tuesday</td>\n",
              "      <td>Tuesday</td>\n",
              "      <td>1</td>\n",
              "      <td>11</td>\n",
              "      <td>1</td>\n",
              "    </tr>\n",
              "    <tr>\n",
              "      <th>3</th>\n",
              "      <td>id3504673</td>\n",
              "      <td>2</td>\n",
              "      <td>2016-04-06 19:32:31</td>\n",
              "      <td>2016-04-06 19:39:40</td>\n",
              "      <td>1</td>\n",
              "      <td>-74.010040</td>\n",
              "      <td>40.719971</td>\n",
              "      <td>-74.012268</td>\n",
              "      <td>40.706718</td>\n",
              "      <td>N</td>\n",
              "      <td>429</td>\n",
              "      <td>Wednesday</td>\n",
              "      <td>Wednesday</td>\n",
              "      <td>2</td>\n",
              "      <td>19</td>\n",
              "      <td>4</td>\n",
              "    </tr>\n",
              "    <tr>\n",
              "      <th>4</th>\n",
              "      <td>id2181028</td>\n",
              "      <td>2</td>\n",
              "      <td>2016-03-26 13:30:55</td>\n",
              "      <td>2016-03-26 13:38:10</td>\n",
              "      <td>1</td>\n",
              "      <td>-73.973053</td>\n",
              "      <td>40.793209</td>\n",
              "      <td>-73.972923</td>\n",
              "      <td>40.782520</td>\n",
              "      <td>N</td>\n",
              "      <td>435</td>\n",
              "      <td>Saturday</td>\n",
              "      <td>Saturday</td>\n",
              "      <td>5</td>\n",
              "      <td>13</td>\n",
              "      <td>3</td>\n",
              "    </tr>\n",
              "  </tbody>\n",
              "</table>\n",
              "</div>"
            ],
            "text/plain": [
              "          id  vendor_id  ... pickup_hour month\n",
              "0  id2875421          2  ...          17     3\n",
              "1  id2377394          1  ...           0     6\n",
              "2  id3858529          2  ...          11     1\n",
              "3  id3504673          2  ...          19     4\n",
              "4  id2181028          2  ...          13     3\n",
              "\n",
              "[5 rows x 16 columns]"
            ]
          },
          "metadata": {},
          "execution_count": 10
        }
      ]
    },
    {
      "cell_type": "markdown",
      "metadata": {
        "id": "ZmajNQ5hrTPw"
      },
      "source": [
        "Finding Distance by using pickup_lat,pickup_long,dropoff_lat,dropoff_long values"
      ]
    },
    {
      "cell_type": "code",
      "metadata": {
        "id": "TGHtuiEprhc-"
      },
      "source": [
        "from geopy.distance import great_circle"
      ],
      "execution_count": 11,
      "outputs": []
    },
    {
      "cell_type": "code",
      "metadata": {
        "id": "o2bs9AjXrkvl"
      },
      "source": [
        "def find_distance(pickup_lat,pickup_long,dropoff_lat,dropoff_long):\n",
        " \n",
        " start=(pickup_lat,pickup_long)\n",
        " end=(dropoff_lat,dropoff_long)\n",
        " \n",
        " return great_circle(start,end).km"
      ],
      "execution_count": 12,
      "outputs": []
    },
    {
      "cell_type": "code",
      "metadata": {
        "id": "WKTzGzm3rx_f"
      },
      "source": [
        "data['distance'] = data.apply(lambda x: find_distance(x['pickup_latitude'],x['pickup_longitude'],x['dropoff_latitude'],x['dropoff_longitude'] ), axis=1)"
      ],
      "execution_count": 13,
      "outputs": []
    },
    {
      "cell_type": "code",
      "metadata": {
        "colab": {
          "base_uri": "https://localhost:8080/"
        },
        "id": "RwHDaPnnsbxo",
        "outputId": "f707d67f-6ea5-4668-aa0f-83d49a157d7e"
      },
      "source": [
        "data.trip_duration.head()"
      ],
      "execution_count": 14,
      "outputs": [
        {
          "output_type": "execute_result",
          "data": {
            "text/plain": [
              "0     455\n",
              "1     663\n",
              "2    2124\n",
              "3     429\n",
              "4     435\n",
              "Name: trip_duration, dtype: int64"
            ]
          },
          "metadata": {},
          "execution_count": 14
        }
      ]
    },
    {
      "cell_type": "markdown",
      "metadata": {
        "id": "s7YL_9ijsCsv"
      },
      "source": [
        "Now we can find speed"
      ]
    },
    {
      "cell_type": "code",
      "metadata": {
        "id": "Ctd9wsQgsAn4"
      },
      "source": [
        "data['speed'] = (data.distance/(data.trip_duration/3600))"
      ],
      "execution_count": 15,
      "outputs": []
    },
    {
      "cell_type": "code",
      "metadata": {
        "colab": {
          "base_uri": "https://localhost:8080/"
        },
        "id": "3jPe6RSFsK_p",
        "outputId": "59fe75b0-723a-4af4-ed00-ea5033f9254f"
      },
      "source": [
        "data.info()"
      ],
      "execution_count": 16,
      "outputs": [
        {
          "output_type": "stream",
          "name": "stdout",
          "text": [
            "<class 'pandas.core.frame.DataFrame'>\n",
            "RangeIndex: 1458644 entries, 0 to 1458643\n",
            "Data columns (total 18 columns):\n",
            " #   Column              Non-Null Count    Dtype         \n",
            "---  ------              --------------    -----         \n",
            " 0   id                  1458644 non-null  object        \n",
            " 1   vendor_id           1458644 non-null  int64         \n",
            " 2   pickup_datetime     1458644 non-null  datetime64[ns]\n",
            " 3   dropoff_datetime    1458644 non-null  datetime64[ns]\n",
            " 4   passenger_count     1458644 non-null  int64         \n",
            " 5   pickup_longitude    1458644 non-null  float64       \n",
            " 6   pickup_latitude     1458644 non-null  float64       \n",
            " 7   dropoff_longitude   1458644 non-null  float64       \n",
            " 8   dropoff_latitude    1458644 non-null  float64       \n",
            " 9   store_and_fwd_flag  1458644 non-null  object        \n",
            " 10  trip_duration       1458644 non-null  int64         \n",
            " 11  pickup_weekday      1458644 non-null  object        \n",
            " 12  dropoff_weekday     1458644 non-null  object        \n",
            " 13  pickup_weekday_num  1458644 non-null  int64         \n",
            " 14  pickup_hour         1458644 non-null  int64         \n",
            " 15  month               1458644 non-null  int64         \n",
            " 16  distance            1458644 non-null  float64       \n",
            " 17  speed               1458644 non-null  float64       \n",
            "dtypes: datetime64[ns](2), float64(6), int64(6), object(4)\n",
            "memory usage: 200.3+ MB\n"
          ]
        }
      ]
    },
    {
      "cell_type": "code",
      "metadata": {
        "id": "x-P7dJzQsQ_u"
      },
      "source": [
        "def time_of_day(x):\n",
        "    if x in range(6,12):\n",
        "        return 'Morning'\n",
        "    elif x in range(12,16):\n",
        "        return 'Afternoon'\n",
        "    elif x in range(16,22):\n",
        "        return 'Evening'\n",
        "    else:\n",
        "        return 'Late night'"
      ],
      "execution_count": 17,
      "outputs": []
    },
    {
      "cell_type": "code",
      "metadata": {
        "id": "ZkuE6TxyslJ6"
      },
      "source": [
        "data['pickup_timeofday']=data['pickup_hour'].apply(time_of_day)"
      ],
      "execution_count": 18,
      "outputs": []
    },
    {
      "cell_type": "code",
      "metadata": {
        "colab": {
          "base_uri": "https://localhost:8080/",
          "height": 309
        },
        "id": "DGlGDBZHsnrK",
        "outputId": "aefc1413-661e-40de-c791-34e24a1a4fa5"
      },
      "source": [
        "data.head()"
      ],
      "execution_count": 19,
      "outputs": [
        {
          "output_type": "execute_result",
          "data": {
            "text/html": [
              "<div>\n",
              "<style scoped>\n",
              "    .dataframe tbody tr th:only-of-type {\n",
              "        vertical-align: middle;\n",
              "    }\n",
              "\n",
              "    .dataframe tbody tr th {\n",
              "        vertical-align: top;\n",
              "    }\n",
              "\n",
              "    .dataframe thead th {\n",
              "        text-align: right;\n",
              "    }\n",
              "</style>\n",
              "<table border=\"1\" class=\"dataframe\">\n",
              "  <thead>\n",
              "    <tr style=\"text-align: right;\">\n",
              "      <th></th>\n",
              "      <th>id</th>\n",
              "      <th>vendor_id</th>\n",
              "      <th>pickup_datetime</th>\n",
              "      <th>dropoff_datetime</th>\n",
              "      <th>passenger_count</th>\n",
              "      <th>pickup_longitude</th>\n",
              "      <th>pickup_latitude</th>\n",
              "      <th>dropoff_longitude</th>\n",
              "      <th>dropoff_latitude</th>\n",
              "      <th>store_and_fwd_flag</th>\n",
              "      <th>trip_duration</th>\n",
              "      <th>pickup_weekday</th>\n",
              "      <th>dropoff_weekday</th>\n",
              "      <th>pickup_weekday_num</th>\n",
              "      <th>pickup_hour</th>\n",
              "      <th>month</th>\n",
              "      <th>distance</th>\n",
              "      <th>speed</th>\n",
              "      <th>pickup_timeofday</th>\n",
              "    </tr>\n",
              "  </thead>\n",
              "  <tbody>\n",
              "    <tr>\n",
              "      <th>0</th>\n",
              "      <td>id2875421</td>\n",
              "      <td>2</td>\n",
              "      <td>2016-03-14 17:24:55</td>\n",
              "      <td>2016-03-14 17:32:30</td>\n",
              "      <td>1</td>\n",
              "      <td>-73.982155</td>\n",
              "      <td>40.767937</td>\n",
              "      <td>-73.964630</td>\n",
              "      <td>40.765602</td>\n",
              "      <td>N</td>\n",
              "      <td>455</td>\n",
              "      <td>Monday</td>\n",
              "      <td>Monday</td>\n",
              "      <td>0</td>\n",
              "      <td>17</td>\n",
              "      <td>3</td>\n",
              "      <td>1.498523</td>\n",
              "      <td>11.856445</td>\n",
              "      <td>Evening</td>\n",
              "    </tr>\n",
              "    <tr>\n",
              "      <th>1</th>\n",
              "      <td>id2377394</td>\n",
              "      <td>1</td>\n",
              "      <td>2016-06-12 00:43:35</td>\n",
              "      <td>2016-06-12 00:54:38</td>\n",
              "      <td>1</td>\n",
              "      <td>-73.980415</td>\n",
              "      <td>40.738564</td>\n",
              "      <td>-73.999481</td>\n",
              "      <td>40.731152</td>\n",
              "      <td>N</td>\n",
              "      <td>663</td>\n",
              "      <td>Sunday</td>\n",
              "      <td>Sunday</td>\n",
              "      <td>6</td>\n",
              "      <td>0</td>\n",
              "      <td>6</td>\n",
              "      <td>1.805510</td>\n",
              "      <td>9.803673</td>\n",
              "      <td>Late night</td>\n",
              "    </tr>\n",
              "    <tr>\n",
              "      <th>2</th>\n",
              "      <td>id3858529</td>\n",
              "      <td>2</td>\n",
              "      <td>2016-01-19 11:35:24</td>\n",
              "      <td>2016-01-19 12:10:48</td>\n",
              "      <td>1</td>\n",
              "      <td>-73.979027</td>\n",
              "      <td>40.763939</td>\n",
              "      <td>-74.005333</td>\n",
              "      <td>40.710087</td>\n",
              "      <td>N</td>\n",
              "      <td>2124</td>\n",
              "      <td>Tuesday</td>\n",
              "      <td>Tuesday</td>\n",
              "      <td>1</td>\n",
              "      <td>11</td>\n",
              "      <td>1</td>\n",
              "      <td>6.385108</td>\n",
              "      <td>10.822216</td>\n",
              "      <td>Morning</td>\n",
              "    </tr>\n",
              "    <tr>\n",
              "      <th>3</th>\n",
              "      <td>id3504673</td>\n",
              "      <td>2</td>\n",
              "      <td>2016-04-06 19:32:31</td>\n",
              "      <td>2016-04-06 19:39:40</td>\n",
              "      <td>1</td>\n",
              "      <td>-74.010040</td>\n",
              "      <td>40.719971</td>\n",
              "      <td>-74.012268</td>\n",
              "      <td>40.706718</td>\n",
              "      <td>N</td>\n",
              "      <td>429</td>\n",
              "      <td>Wednesday</td>\n",
              "      <td>Wednesday</td>\n",
              "      <td>2</td>\n",
              "      <td>19</td>\n",
              "      <td>4</td>\n",
              "      <td>1.485501</td>\n",
              "      <td>12.465739</td>\n",
              "      <td>Evening</td>\n",
              "    </tr>\n",
              "    <tr>\n",
              "      <th>4</th>\n",
              "      <td>id2181028</td>\n",
              "      <td>2</td>\n",
              "      <td>2016-03-26 13:30:55</td>\n",
              "      <td>2016-03-26 13:38:10</td>\n",
              "      <td>1</td>\n",
              "      <td>-73.973053</td>\n",
              "      <td>40.793209</td>\n",
              "      <td>-73.972923</td>\n",
              "      <td>40.782520</td>\n",
              "      <td>N</td>\n",
              "      <td>435</td>\n",
              "      <td>Saturday</td>\n",
              "      <td>Saturday</td>\n",
              "      <td>5</td>\n",
              "      <td>13</td>\n",
              "      <td>3</td>\n",
              "      <td>1.188590</td>\n",
              "      <td>9.836608</td>\n",
              "      <td>Afternoon</td>\n",
              "    </tr>\n",
              "  </tbody>\n",
              "</table>\n",
              "</div>"
            ],
            "text/plain": [
              "          id  vendor_id  ...      speed pickup_timeofday\n",
              "0  id2875421          2  ...  11.856445          Evening\n",
              "1  id2377394          1  ...   9.803673       Late night\n",
              "2  id3858529          2  ...  10.822216          Morning\n",
              "3  id3504673          2  ...  12.465739          Evening\n",
              "4  id2181028          2  ...   9.836608        Afternoon\n",
              "\n",
              "[5 rows x 19 columns]"
            ]
          },
          "metadata": {},
          "execution_count": 19
        }
      ]
    },
    {
      "cell_type": "markdown",
      "metadata": {
        "id": "4b_28FC6s4C1"
      },
      "source": [
        "## Univariate Analysis"
      ]
    },
    {
      "cell_type": "markdown",
      "metadata": {
        "id": "flgdYjT21nWE"
      },
      "source": [
        "### Trip Duration"
      ]
    },
    {
      "cell_type": "code",
      "metadata": {
        "colab": {
          "base_uri": "https://localhost:8080/",
          "height": 345
        },
        "id": "Zz_p01PWs7DW",
        "outputId": "5f517d98-18b9-47d6-a3c9-c4e1f6803541"
      },
      "source": [
        "#plotting target variable trip duration\n",
        "plt.figure(figsize = (10,5))\n",
        "sns.distplot(data['trip_duration'])\n",
        "plt.xlabel('Trip Duration')\n",
        "plt.show()"
      ],
      "execution_count": 20,
      "outputs": [
        {
          "output_type": "display_data",
          "data": {
            "image/png": "[encoded data removed]",
            "text/plain": [
              "<Figure size 720x360 with 1 Axes>"
            ]
          },
          "metadata": {
            "needs_background": "light"
          }
        }
      ]
    },
    {
      "cell_type": "markdown",
      "metadata": {
        "id": "skt3KzCCtWzS"
      },
      "source": [
        "Since trip duration looks skewed we can apply log10 tomake it normal distribution"
      ]
    },
    {
      "cell_type": "code",
      "metadata": {
        "colab": {
          "base_uri": "https://localhost:8080/",
          "height": 334
        },
        "id": "QBKLgV42s07M",
        "outputId": "22d3ece9-c30e-41ea-cbe3-5befaa6ecaf0"
      },
      "source": [
        "plt.figure(figsize = (10,5))\n",
        "sns.distplot(np.log10(data['trip_duration']))\n",
        "plt.xlabel('Trip Duration')\n",
        "plt.show()"
      ],
      "execution_count": 21,
      "outputs": [
        {
          "output_type": "display_data",
          "data": {
            "image/png": "[encoded data removed]",
            "text/plain": [
              "<Figure size 720x360 with 1 Axes>"
            ]
          },
          "metadata": {
            "needs_background": "light"
          }
        }
      ]
    },
    {
      "cell_type": "markdown",
      "metadata": {
        "id": "7HhzKvyLtpnB"
      },
      "source": [
        "Finding outliers"
      ]
    },
    {
      "cell_type": "code",
      "metadata": {
        "colab": {
          "base_uri": "https://localhost:8080/",
          "height": 279
        },
        "id": "h_SnNTAttru0",
        "outputId": "f31b77b9-0ac3-4cba-a0c2-643ec7a2058b"
      },
      "source": [
        "plt.figure(figsize = (10,4))\n",
        "sns.boxplot(data.trip_duration)\n",
        "plt.xlabel('Trip Duration')\n",
        "plt.show()"
      ],
      "execution_count": 22,
      "outputs": [
        {
          "output_type": "display_data",
          "data": {
            "image/png": "[encoded data removed]",
            "text/plain": [
              "<Figure size 720x288 with 1 Axes>"
            ]
          },
          "metadata": {
            "needs_background": "light"
          }
        }
      ]
    },
    {
      "cell_type": "code",
      "metadata": {
        "id": "s20m8pbTtmOV"
      },
      "source": [
        "  duration= data['trip_duration'].values"
      ],
      "execution_count": 23,
      "outputs": []
    },
    {
      "cell_type": "code",
      "metadata": {
        "id": "mYg8s1w7uRIi"
      },
      "source": [
        "duration=np.sort(duration)"
      ],
      "execution_count": 24,
      "outputs": []
    },
    {
      "cell_type": "code",
      "metadata": {
        "colab": {
          "base_uri": "https://localhost:8080/"
        },
        "id": "3OUavPpKuYcn",
        "outputId": "a089a6c4-4327-4e60-9d9b-0484f4982802"
      },
      "source": [
        "print('0 percentile value is ',duration.min())"
      ],
      "execution_count": 25,
      "outputs": [
        {
          "output_type": "stream",
          "name": "stdout",
          "text": [
            "0 percentile value is  1\n"
          ]
        }
      ]
    },
    {
      "cell_type": "code",
      "metadata": {
        "colab": {
          "base_uri": "https://localhost:8080/"
        },
        "id": "sYMDfvTBucR_",
        "outputId": "9712cf5f-1053-4328-bcbc-a9ec5d6aeaa9"
      },
      "source": [
        "print('100 percentile value is',duration.max())"
      ],
      "execution_count": 26,
      "outputs": [
        {
          "output_type": "stream",
          "name": "stdout",
          "text": [
            "100 percentile value is 3526282\n"
          ]
        }
      ]
    },
    {
      "cell_type": "code",
      "metadata": {
        "colab": {
          "base_uri": "https://localhost:8080/"
        },
        "id": "ctHGRftUufg_",
        "outputId": "8653e5b1-ea37-444c-d5f2-322b1ad4aca2"
      },
      "source": [
        "for i in range(0,100,5):\n",
        "  duration= data['trip_duration'].values\n",
        "  duration= np.sort(duration, axis= None)\n",
        "  print(\"{} percentile value is {}\".format(i, duration[int(len(duration)*(float(i)/100))]))\n",
        "print('100 percentile value is',duration.max())"
      ],
      "execution_count": 27,
      "outputs": [
        {
          "output_type": "stream",
          "name": "stdout",
          "text": [
            "0 percentile value is 1\n",
            "5 percentile value is 180\n",
            "10 percentile value is 245\n",
            "15 percentile value is 298\n",
            "20 percentile value is 348\n",
            "25 percentile value is 397\n",
            "30 percentile value is 446\n",
            "35 percentile value is 496\n",
            "40 percentile value is 548\n",
            "45 percentile value is 603\n",
            "50 percentile value is 662\n",
            "55 percentile value is 727\n",
            "60 percentile value is 798\n",
            "65 percentile value is 877\n",
            "70 percentile value is 968\n",
            "75 percentile value is 1075\n",
            "80 percentile value is 1208\n",
            "85 percentile value is 1383\n",
            "90 percentile value is 1634\n",
            "95 percentile value is 2104\n",
            "100 percentile value is 3526282\n"
          ]
        }
      ]
    },
    {
      "cell_type": "code",
      "metadata": {
        "colab": {
          "base_uri": "https://localhost:8080/"
        },
        "id": "Uv9kqSJDx4UT",
        "outputId": "aaaa7fc4-a0ae-4b08-dc44-d4c34ded44ad"
      },
      "source": [
        "for i in range(95,100):\n",
        "  duration= data['trip_duration'].values\n",
        "  duration= np.sort(duration, axis= None)\n",
        "  print(\"{} percentile value is {}\".format(i, duration[int(len(duration)*(float(i)/100))]))\n",
        "print(\"100 percentile value is \",duration[-1])"
      ],
      "execution_count": 28,
      "outputs": [
        {
          "output_type": "stream",
          "name": "stdout",
          "text": [
            "95 percentile value is 2104\n",
            "96 percentile value is 2273\n",
            "97 percentile value is 2497\n",
            "98 percentile value is 2829\n",
            "99 percentile value is 3440\n",
            "100 percentile value is  3526282\n"
          ]
        }
      ]
    },
    {
      "cell_type": "markdown",
      "metadata": {
        "id": "6jzw9IqTyHde"
      },
      "source": [
        "100 percentile value is clearly out of range"
      ]
    },
    {
      "cell_type": "code",
      "metadata": {
        "colab": {
          "base_uri": "https://localhost:8080/",
          "height": 388
        },
        "id": "CYFAJNgkyOOW",
        "outputId": "9145d514-d634-4858-c81f-c111eb481ce0"
      },
      "source": [
        "# No.of trips taken in periods of 5 min gaps\n",
        "plt.figure(figsize = (10,5))\n",
        "data.trip_duration.groupby(pd.cut(data.trip_duration, np.arange(1,7200,300))).count().plot(kind='bar')\n",
        "plt.xlabel('Trip Counts')\n",
        "plt.ylabel('Trip Duration (seconds)')\n",
        "plt.show()"
      ],
      "execution_count": 29,
      "outputs": [
        {
          "output_type": "display_data",
          "data": {
            "image/png": "[encoded data removed]",
            "text/plain": [
              "<Figure size 720x360 with 1 Axes>"
            ]
          },
          "metadata": {
            "needs_background": "light"
          }
        }
      ]
    },
    {
      "cell_type": "markdown",
      "metadata": {
        "id": "MBoslhxP0XMq"
      },
      "source": [
        "There are very few trips which have duration greater than 4800 seconds."
      ]
    },
    {
      "cell_type": "markdown",
      "metadata": {
        "id": "-kgB2Y7K0tmU"
      },
      "source": [
        "we should get rid of data having trip duration greater than 4800 seconds and also trip duration less than 60 seconds)"
      ]
    },
    {
      "cell_type": "code",
      "metadata": {
        "id": "8M9GOJc-0oFx"
      },
      "source": [
        "data = data[data.trip_duration <= 4800]\n",
        "data = data[data.trip_duration >= 60]"
      ],
      "execution_count": 30,
      "outputs": []
    },
    {
      "cell_type": "code",
      "metadata": {
        "colab": {
          "base_uri": "https://localhost:8080/",
          "height": 334
        },
        "id": "-7WRjsX2yFdJ",
        "outputId": "b00f78bb-2ebc-4ace-c19e-95c9764e5169"
      },
      "source": [
        "plt.figure(figsize = (10,5))\n",
        "sns.boxplot(data.trip_duration)\n",
        "plt.xlabel('Trip Duration (seconds)')\n",
        "plt.show()"
      ],
      "execution_count": 31,
      "outputs": [
        {
          "output_type": "display_data",
          "data": {
            "image/png": "[encoded data removed]",
            "text/plain": [
              "<Figure size 720x360 with 1 Axes>"
            ]
          },
          "metadata": {
            "needs_background": "light"
          }
        }
      ]
    },
    {
      "cell_type": "markdown",
      "metadata": {
        "id": "ihIY9RXx1Pbw"
      },
      "source": [
        "*   We can observe that most of the trips took 0 - 30 mins (2000 seconds) to complete"
      ]
    },
    {
      "cell_type": "markdown",
      "metadata": {
        "id": "k7DfAr0z1euT"
      },
      "source": [
        "### Trips per Time of Day"
      ]
    },
    {
      "cell_type": "code",
      "metadata": {
        "colab": {
          "base_uri": "https://localhost:8080/",
          "height": 350
        },
        "id": "bCrh5bqc1jWF",
        "outputId": "1f99c7e9-60de-4213-bcd0-8e3563932905"
      },
      "source": [
        "plt.figure(figsize = (10,5))\n",
        "sns.countplot(x=\"pickup_timeofday\",data=data)\n",
        "plt.title('Pickup Time of Day')\n",
        "plt.xlabel('Parts of the Day')\n",
        "plt.ylabel('Count')\n",
        "plt.show()"
      ],
      "execution_count": 32,
      "outputs": [
        {
          "output_type": "display_data",
          "data": {
            "image/png": "[encoded data removed]",
            "text/plain": [
              "<Figure size 720x360 with 1 Axes>"
            ]
          },
          "metadata": {
            "needs_background": "light"
          }
        }
      ]
    },
    {
      "cell_type": "markdown",
      "metadata": {
        "id": "7N5NK0CW1x5J"
      },
      "source": [
        "* Seems like evenigs have the most number of trips"
      ]
    },
    {
      "cell_type": "markdown",
      "metadata": {
        "id": "3IWF-21p15wE"
      },
      "source": [
        "### Vendor ID"
      ]
    },
    {
      "cell_type": "code",
      "metadata": {
        "colab": {
          "base_uri": "https://localhost:8080/",
          "height": 334
        },
        "id": "IDEyW7qB176T",
        "outputId": "82c6883a-7fba-41bd-d4ea-53021d1271cf"
      },
      "source": [
        "plt.figure(figsize = (10,5))\n",
        "sns.countplot(data.vendor_id)\n",
        "plt.xlabel('Vendor ID')\n",
        "plt.ylabel('Count')\n",
        "plt.show()"
      ],
      "execution_count": 33,
      "outputs": [
        {
          "output_type": "display_data",
          "data": {
            "image/png": "[encoded data removed]",
            "text/plain": [
              "<Figure size 720x360 with 1 Axes>"
            ]
          },
          "metadata": {
            "needs_background": "light"
          }
        }
      ]
    },
    {
      "cell_type": "markdown",
      "metadata": {
        "id": "-6wJIFkM1_w5"
      },
      "source": [
        "* Not very much great difference"
      ]
    },
    {
      "cell_type": "markdown",
      "metadata": {
        "id": "M7AM04QO2FCM"
      },
      "source": [
        "### Passenger Count"
      ]
    },
    {
      "cell_type": "code",
      "metadata": {
        "colab": {
          "base_uri": "https://localhost:8080/",
          "height": 345
        },
        "id": "-F2mGUXl13zN",
        "outputId": "6e6e888b-10b6-4213-e023-97874a9879ed"
      },
      "source": [
        "plt.figure(figsize = (10,5))\n",
        "sns.countplot(x='passenger_count',data=data)\n",
        "plt.ylabel('Count')\n",
        "plt.xlabel('No.of Passngers')\n",
        "plt.show()"
      ],
      "execution_count": 34,
      "outputs": [
        {
          "output_type": "display_data",
          "data": {
            "image/png": "[encoded data removed]",
            "text/plain": [
              "<Figure size 720x360 with 1 Axes>"
            ]
          },
          "metadata": {
            "needs_background": "light"
          }
        }
      ]
    },
    {
      "cell_type": "markdown",
      "metadata": {
        "id": "gDTrwN-C2KrI"
      },
      "source": [
        "* Let us remove the rows which have 0 or greater than 6 passenger count"
      ]
    },
    {
      "cell_type": "code",
      "metadata": {
        "id": "Yevxl88h2cDk"
      },
      "source": [
        "data=data[data['passenger_count']!=0]\n",
        "data=data[data['passenger_count']<=6]"
      ],
      "execution_count": 35,
      "outputs": []
    },
    {
      "cell_type": "code",
      "metadata": {
        "colab": {
          "base_uri": "https://localhost:8080/",
          "height": 345
        },
        "id": "bXCIUqlh1cvF",
        "outputId": "dc2df55c-d5b7-42d1-d68b-6144ba6f1e99"
      },
      "source": [
        "plt.figure(figsize = (10,5))\n",
        "sns.countplot(x='passenger_count',data=data)\n",
        "plt.ylabel('Count')\n",
        "plt.xlabel('No.of Passngers')\n",
        "plt.show()"
      ],
      "execution_count": 36,
      "outputs": [
        {
          "output_type": "display_data",
          "data": {
            "image/png": "[encoded data removed]",
            "text/plain": [
              "<Figure size 720x360 with 1 Axes>"
            ]
          },
          "metadata": {
            "needs_background": "light"
          }
        }
      ]
    },
    {
      "cell_type": "markdown",
      "metadata": {
        "id": "piTqhY4X2jzD"
      },
      "source": [
        "* Wee can see that highest amount of trips were taken by single passengers"
      ]
    },
    {
      "cell_type": "markdown",
      "metadata": {
        "id": "9nT-9l7u2ty3"
      },
      "source": [
        "### Store and Forward Flag"
      ]
    },
    {
      "cell_type": "code",
      "metadata": {
        "colab": {
          "base_uri": "https://localhost:8080/"
        },
        "id": "ZPJUw0cL2yop",
        "outputId": "b159d801-4e90-450a-95f0-0d3abe9cf30c"
      },
      "source": [
        "data['store_and_fwd_flag'].value_counts()"
      ],
      "execution_count": 37,
      "outputs": [
        {
          "output_type": "execute_result",
          "data": {
            "text/plain": [
              "N    1437924\n",
              "Y       7846\n",
              "Name: store_and_fwd_flag, dtype: int64"
            ]
          },
          "metadata": {},
          "execution_count": 37
        }
      ]
    },
    {
      "cell_type": "code",
      "metadata": {
        "colab": {
          "base_uri": "https://localhost:8080/"
        },
        "id": "pa9hrKeo28sR",
        "outputId": "91034f5e-be57-4f55-dcd3-297d5d277980"
      },
      "source": [
        "data['store_and_fwd_flag'].value_counts(normalize=True)"
      ],
      "execution_count": 38,
      "outputs": [
        {
          "output_type": "execute_result",
          "data": {
            "text/plain": [
              "N    0.994573\n",
              "Y    0.005427\n",
              "Name: store_and_fwd_flag, dtype: float64"
            ]
          },
          "metadata": {},
          "execution_count": 38
        }
      ]
    },
    {
      "cell_type": "markdown",
      "metadata": {
        "id": "3Zn8yT7-3Gm6"
      },
      "source": [
        "*   We can see that only about 1% of the trip details were stored in the vehicle memory first"
      ]
    },
    {
      "cell_type": "code",
      "metadata": {
        "colab": {
          "base_uri": "https://localhost:8080/",
          "height": 345
        },
        "id": "gIsH79XY2q6I",
        "outputId": "e2ef4610-711d-4cdb-85ab-78dc31778976"
      },
      "source": [
        "plt.figure(figsize = (10,5))\n",
        "sns.countplot(x='store_and_fwd_flag',data=data)\n",
        "plt.ylabel('Count')\n",
        "plt.xlabel('Store and forward flag')\n",
        "plt.show()"
      ],
      "execution_count": 39,
      "outputs": [
        {
          "output_type": "display_data",
          "data": {
            "image/png": "[encoded data removed]",
            "text/plain": [
              "<Figure size 720x360 with 1 Axes>"
            ]
          },
          "metadata": {
            "needs_background": "light"
          }
        }
      ]
    },
    {
      "cell_type": "markdown",
      "metadata": {
        "id": "tKWNUBrh3Z6v"
      },
      "source": [
        "### Distance"
      ]
    },
    {
      "cell_type": "code",
      "metadata": {
        "id": "mwgxY0bU3c2a"
      },
      "source": [
        "distance= data['distance'].values\n",
        "distance= np.sort(distance, axis= None)"
      ],
      "execution_count": 40,
      "outputs": []
    },
    {
      "cell_type": "code",
      "metadata": {
        "colab": {
          "base_uri": "https://localhost:8080/"
        },
        "id": "Bx3PeBcm31Js",
        "outputId": "c6da1e5f-5ec1-4715-fee6-93ca004705a0"
      },
      "source": [
        "for i in range(0,100,10):\n",
        "  distance= data['distance'].values\n",
        "  distance= np.sort(distance, axis= None)\n",
        "  print(\"{} percentile value is {}\".format(i, distance[int(len(distance)*(float(i)/100))]))\n",
        "print('100 percentile value is',distance.max())"
      ],
      "execution_count": 41,
      "outputs": [
        {
          "output_type": "stream",
          "name": "stdout",
          "text": [
            "0 percentile value is 0.0\n",
            "10 percentile value is 0.8093061824130643\n",
            "20 percentile value is 1.1026472610520168\n",
            "30 percentile value is 1.39058872417481\n",
            "40 percentile value is 1.716615188182333\n",
            "50 percentile value is 2.103475699940145\n",
            "60 percentile value is 2.6056675665794966\n",
            "70 percentile value is 3.343154788968105\n",
            "80 percentile value is 4.61962459854144\n",
            "90 percentile value is 7.593696297990768\n",
            "100 percentile value is 1240.9104296218293\n"
          ]
        }
      ]
    },
    {
      "cell_type": "code",
      "metadata": {
        "colab": {
          "base_uri": "https://localhost:8080/"
        },
        "id": "_X3egvJN1Qym",
        "outputId": "9ef3e7fe-30af-4da0-efd3-627e9af128bd"
      },
      "source": [
        "for i in range(90,100):\n",
        "  distance= data['distance'].values\n",
        "  distance= np.sort(distance, axis= None)\n",
        "  print(\"{} percentile value is {}\".format(i, distance[int(len(distance)*(float(i)/100))]))\n",
        "print('100 percentile value is',distance.max())"
      ],
      "execution_count": 42,
      "outputs": [
        {
          "output_type": "stream",
          "name": "stdout",
          "text": [
            "90 percentile value is 7.593696297990768\n",
            "91 percentile value is 8.207780822339672\n",
            "92 percentile value is 8.841237389244656\n",
            "93 percentile value is 9.4106389538407\n",
            "94 percentile value is 10.015202848603936\n",
            "95 percentile value is 10.90093839508433\n",
            "96 percentile value is 12.59665017604999\n",
            "97 percentile value is 15.069118743415903\n",
            "98 percentile value is 19.11293911352718\n",
            "99 percentile value is 20.711628319423614\n",
            "100 percentile value is 1240.9104296218293\n"
          ]
        }
      ]
    },
    {
      "cell_type": "code",
      "metadata": {
        "colab": {
          "base_uri": "https://localhost:8080/",
          "height": 334
        },
        "id": "_JVR33lN4X-n",
        "outputId": "63ced103-3bf8-4ebc-97ec-db6fe9cbd682"
      },
      "source": [
        "plt.figure(figsize = (10,5))\n",
        "sns.boxplot(data.distance)\n",
        "plt.xlabel('Distance Travelled')\n",
        "plt.show()"
      ],
      "execution_count": 43,
      "outputs": [
        {
          "output_type": "display_data",
          "data": {
            "image/png": "[encoded data removed]",
            "text/plain": [
              "<Figure size 720x360 with 1 Axes>"
            ]
          },
          "metadata": {
            "needs_background": "light"
          }
        }
      ]
    },
    {
      "cell_type": "markdown",
      "metadata": {
        "id": "YdgVaC-95KE4"
      },
      "source": [
        "* Since we removed the data having greater than 80 min(4800sec) so we can remove the distance travelled > 100 km, and we seen that 99 percentile of the distance travelled is about 24 km"
      ]
    },
    {
      "cell_type": "code",
      "metadata": {
        "id": "rpiFXBRq7bMJ"
      },
      "source": [
        "data = data[data.distance <= 100]\n",
        "data = data[data.distance >=1 ]"
      ],
      "execution_count": 44,
      "outputs": []
    },
    {
      "cell_type": "code",
      "metadata": {
        "colab": {
          "base_uri": "https://localhost:8080/",
          "height": 334
        },
        "id": "ghZyVbD87uEf",
        "outputId": "19f5d344-ae1f-4177-ed16-641860f50d55"
      },
      "source": [
        "plt.figure(figsize = (10,5))\n",
        "sns.boxplot(data.distance)\n",
        "plt.xlabel('Distance Travelled')\n",
        "plt.show()"
      ],
      "execution_count": 45,
      "outputs": [
        {
          "output_type": "display_data",
          "data": {
            "image/png": "[encoded data removed]",
            "text/plain": [
              "<Figure size 720x360 with 1 Axes>"
            ]
          },
          "metadata": {
            "needs_background": "light"
          }
        }
      ]
    },
    {
      "cell_type": "markdown",
      "metadata": {
        "id": "8hQGCbof73WX"
      },
      "source": [
        "### Speed"
      ]
    },
    {
      "cell_type": "code",
      "metadata": {
        "colab": {
          "base_uri": "https://localhost:8080/",
          "height": 334
        },
        "id": "buLmjxG375ca",
        "outputId": "f07d8702-d3ba-4eb9-e806-676a81d65762"
      },
      "source": [
        "plt.figure(figsize = (10,5))\n",
        "sns.distplot(data['speed'])\n",
        "plt.xlabel('speed')\n",
        "plt.show()"
      ],
      "execution_count": 46,
      "outputs": [
        {
          "output_type": "display_data",
          "data": {
            "image/png": "[encoded data removed]",
            "text/plain": [
              "<Figure size 720x360 with 1 Axes>"
            ]
          },
          "metadata": {
            "needs_background": "light"
          }
        }
      ]
    },
    {
      "cell_type": "markdown",
      "metadata": {
        "id": "YRCo7QbM8YFn"
      },
      "source": [
        "We can see that most of the speed ranges between 0 to 100 kmph"
      ]
    },
    {
      "cell_type": "code",
      "metadata": {
        "colab": {
          "base_uri": "https://localhost:8080/"
        },
        "id": "DyFzzv0L72PD",
        "outputId": "b79fa0c1-e252-413e-9253-429bb1e7f1af"
      },
      "source": [
        "for i in range(0,100,5):\n",
        "  speed= data['speed'].values\n",
        "  speed= np.sort(speed, axis= None)\n",
        "  print(\"{} percentile value is {}\".format(i, speed[int(len(speed)*(float(i)/100))]))\n",
        "print('100 percentile value is',speed.max())"
      ],
      "execution_count": 47,
      "outputs": [
        {
          "output_type": "stream",
          "name": "stdout",
          "text": [
            "0 percentile value is 0.7774622981972946\n",
            "5 percentile value is 6.123078820561964\n",
            "10 percentile value is 7.359069366433507\n",
            "15 percentile value is 8.303554643948322\n",
            "20 percentile value is 9.1244285537377\n",
            "25 percentile value is 9.882297511300653\n",
            "30 percentile value is 10.609765370790797\n",
            "35 percentile value is 11.319329124081843\n",
            "40 percentile value is 12.03176513232204\n",
            "45 percentile value is 12.771327732602993\n",
            "50 percentile value is 13.545938012292265\n",
            "55 percentile value is 14.363268420760068\n",
            "60 percentile value is 15.260577604607917\n",
            "65 percentile value is 16.25167563096324\n",
            "70 percentile value is 17.36250761520031\n",
            "75 percentile value is 18.678093539350968\n",
            "80 percentile value is 20.27957843604638\n",
            "85 percentile value is 22.329769048727904\n",
            "90 percentile value is 25.265542856507846\n",
            "95 percentile value is 30.36110606966675\n",
            "100 percentile value is 583.7351372418125\n"
          ]
        }
      ]
    },
    {
      "cell_type": "code",
      "metadata": {
        "colab": {
          "base_uri": "https://localhost:8080/"
        },
        "id": "Orb6RsWl9VQG",
        "outputId": "b9caf671-23fa-4ed6-d206-974555b31b23"
      },
      "source": [
        "for i in range(95,100):\n",
        "  speed= data['speed'].values\n",
        "  speed= np.sort(speed, axis= None)\n",
        "  print(\"{} percentile value is {}\".format(i, speed[int(len(speed)*(float(i)/100))]))\n",
        "print('100 percentile value is',speed.max())"
      ],
      "execution_count": 48,
      "outputs": [
        {
          "output_type": "stream",
          "name": "stdout",
          "text": [
            "95 percentile value is 30.36110606966675\n",
            "96 percentile value is 32.03197998942145\n",
            "97 percentile value is 34.1432325670317\n",
            "98 percentile value is 37.05719430091841\n",
            "99 percentile value is 41.501279136766\n",
            "100 percentile value is 583.7351372418125\n"
          ]
        }
      ]
    },
    {
      "cell_type": "markdown",
      "metadata": {
        "id": "J29xr5yA_ZNv"
      },
      "source": [
        "Now we can remove the data having speed greater than 50kmph(over speed is not legal) and less than 1kmph"
      ]
    },
    {
      "cell_type": "code",
      "metadata": {
        "id": "Fdz6MHam-67Y"
      },
      "source": [
        "data = data[data.speed <= 50]\n",
        "data = data[data.speed >=1]"
      ],
      "execution_count": 49,
      "outputs": []
    },
    {
      "cell_type": "code",
      "metadata": {
        "colab": {
          "base_uri": "https://localhost:8080/",
          "height": 334
        },
        "id": "1NvltcAv_TVy",
        "outputId": "3f1976b9-4c3c-4594-f771-3d82872d7f54"
      },
      "source": [
        "plt.figure(figsize = (10,5))\n",
        "sns.boxplot(data.speed)\n",
        "plt.xlabel('Speed')\n",
        "plt.show()"
      ],
      "execution_count": 50,
      "outputs": [
        {
          "output_type": "display_data",
          "data": {
            "image/png": "[encoded data removed]",
            "text/plain": [
              "<Figure size 720x360 with 1 Axes>"
            ]
          },
          "metadata": {
            "needs_background": "light"
          }
        }
      ]
    },
    {
      "cell_type": "code",
      "metadata": {
        "colab": {
          "base_uri": "https://localhost:8080/",
          "height": 363
        },
        "id": "gb1g_qsK_uEl",
        "outputId": "a22a7ac4-20d7-4566-9fd9-f8d08eccb880"
      },
      "source": [
        "plt.figure(figsize = (10,5))\n",
        "data.speed.groupby(pd.cut(data.speed, np.arange(0,55,5))).count().plot(kind ='bar')\n",
        "plt.ylabel('Trip count')\n",
        "plt.xlabel('Speed (Kmph)')\n",
        "plt.show()"
      ],
      "execution_count": 52,
      "outputs": [
        {
          "output_type": "display_data",
          "data": {
            "image/png": "[encoded data removed]",
            "text/plain": [
              "<Figure size 720x360 with 1 Axes>"
            ]
          },
          "metadata": {
            "needs_background": "light"
          }
        }
      ]
    },
    {
      "cell_type": "markdown",
      "metadata": {
        "id": "l9-bdnbRAM7D"
      },
      "source": [
        "*   Mostly trips are done at a speed range of 5-25 kmph.\n"
      ]
    },
    {
      "cell_type": "markdown",
      "metadata": {
        "id": "p2tbyzIXAWXe"
      },
      "source": [
        "### Trips per Hour"
      ]
    },
    {
      "cell_type": "code",
      "metadata": {
        "colab": {
          "base_uri": "https://localhost:8080/",
          "height": 334
        },
        "id": "76ntF1l2AayV",
        "outputId": "7e4c0560-5013-4033-f008-fba1cf487bd5"
      },
      "source": [
        "plt.figure(figsize = (10,5))\n",
        "sns.countplot(data.pickup_hour)\n",
        "plt.xlabel('Time of pickup (24hr format)')\n",
        "plt.show()"
      ],
      "execution_count": 53,
      "outputs": [
        {
          "output_type": "display_data",
          "data": {
            "image/png": "[encoded data removed]",
            "text/plain": [
              "<Figure size 720x360 with 1 Axes>"
            ]
          },
          "metadata": {
            "needs_background": "light"
          }
        }
      ]
    },
    {
      "cell_type": "markdown",
      "metadata": {
        "id": "HIQvlNVtAnaN"
      },
      "source": [
        "### Trips per week day"
      ]
    },
    {
      "cell_type": "code",
      "metadata": {
        "colab": {
          "base_uri": "https://localhost:8080/"
        },
        "id": "_gETvoZiBQ7f",
        "outputId": "d45e04e7-9e1b-42a0-851a-1484113ecb6c"
      },
      "source": [
        "data.pickup_weekday.value_counts()"
      ],
      "execution_count": 59,
      "outputs": [
        {
          "output_type": "execute_result",
          "data": {
            "text/plain": [
              "Saturday     184396\n",
              "Friday       183799\n",
              "Thursday     180067\n",
              "Wednesday    172609\n",
              "Tuesday      166384\n",
              "Sunday       164670\n",
              "Monday       154261\n",
              "Name: pickup_weekday, dtype: int64"
            ]
          },
          "metadata": {},
          "execution_count": 59
        }
      ]
    },
    {
      "cell_type": "code",
      "metadata": {
        "colab": {
          "base_uri": "https://localhost:8080/",
          "height": 334
        },
        "id": "La8Ej1y3AqvM",
        "outputId": "81a11fee-e60a-473e-de66-8ef5478761c4"
      },
      "source": [
        "plt.figure(figsize = (10,5))\n",
        "sns.countplot(data.pickup_weekday)\n",
        "plt.xlabel('Day of Pickup')\n",
        "plt.ylabel('Pickup counts')\n",
        "plt.show()"
      ],
      "execution_count": 54,
      "outputs": [
        {
          "output_type": "display_data",
          "data": {
            "image/png": "[encoded data removed]",
            "text/plain": [
              "<Figure size 720x360 with 1 Axes>"
            ]
          },
          "metadata": {
            "needs_background": "light"
          }
        }
      ]
    },
    {
      "cell_type": "markdown",
      "metadata": {
        "id": "5QqsGiLrAwHz"
      },
      "source": [
        "### Trips per month"
      ]
    },
    {
      "cell_type": "code",
      "metadata": {
        "colab": {
          "base_uri": "https://localhost:8080/"
        },
        "id": "HuAd_C2FBJ3q",
        "outputId": "98a06bdb-4d3f-4588-84d2-35ab479b3446"
      },
      "source": [
        "data.month.value_counts()"
      ],
      "execution_count": 58,
      "outputs": [
        {
          "output_type": "execute_result",
          "data": {
            "text/plain": [
              "3    212276\n",
              "4    208444\n",
              "5    206657\n",
              "6    195063\n",
              "2    194778\n",
              "1    188968\n",
              "Name: month, dtype: int64"
            ]
          },
          "metadata": {},
          "execution_count": 58
        }
      ]
    },
    {
      "cell_type": "code",
      "metadata": {
        "colab": {
          "base_uri": "https://localhost:8080/",
          "height": 334
        },
        "id": "O6_0FmGQAUy1",
        "outputId": "98fc3705-6d72-4cbb-ce9a-d13d33487a6d"
      },
      "source": [
        "plt.figure(figsize = (10,5))\n",
        "sns.countplot(data.month)\n",
        "plt.ylabel('Trip Count')\n",
        "plt.xlabel('Months (Jan=1 to June=6) ')\n",
        "plt.show()"
      ],
      "execution_count": 55,
      "outputs": [
        {
          "output_type": "display_data",
          "data": {
            "image/png": "[encoded data removed]",
            "text/plain": [
              "<Figure size 720x360 with 1 Axes>"
            ]
          },
          "metadata": {
            "needs_background": "light"
          }
        }
      ]
    }
  ]
}