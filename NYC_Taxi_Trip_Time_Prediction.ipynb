{
  "nbformat": 4,
  "nbformat_minor": 0,
  "metadata": {
    "colab": {
      "name": "NYC_Taxi_Trip_Time_Prediction.ipynb",
      "provenance": [],
      "collapsed_sections": [],
      "authorship_tag": "ABX9TyNQGSGOYNkM91MQjknn5jdF",
      "include_colab_link": true
    },
    "kernelspec": {
      "name": "python3",
      "display_name": "Python 3"
    },
    "language_info": {
      "name": "python"
    },
    "accelerator": "GPU"
  },
  "cells": [
    {
      "cell_type": "markdown",
      "metadata": {
        "id": "view-in-github",
        "colab_type": "text"
      },
      "source": [
        "<a href=\"https://colab.research.google.com/github/B-Murali-Krishna/NYC_Taxi_Trip_Time_Prediction--Capstone_Project/blob/main/NYC_Taxi_Trip_Time_Prediction.ipynb\" target=\"_parent\"><img src=\"https://colab.research.google.com/assets/colab-badge.svg\" alt=\"Open In Colab\"/></a>"
      ]
    },
    {
      "cell_type": "code",
      "metadata": {
        "id": "bgnEqxqUn8LI"
      },
      "source": [
        "import numpy as np\n",
        "import pandas as pd\n",
        "import seaborn as sns\n",
        "import matplotlib.pyplot as plt\n",
        "import datetime as dt\n",
        "import warnings\n",
        "warnings.simplefilter('ignore')"
      ],
      "execution_count": 1,
      "outputs": []
    },
    {
      "cell_type": "code",
      "metadata": {
        "colab": {
          "base_uri": "https://localhost:8080/"
        },
        "id": "VbCWSPVRpExz",
        "outputId": "78c8f58e-212e-4c06-ea86-0e9dd217ac48"
      },
      "source": [
        "from google.colab import drive\n",
        "drive.mount('/content/drive',force_remount=True)"
      ],
      "execution_count": 2,
      "outputs": [
        {
          "output_type": "stream",
          "name": "stdout",
          "text": [
            "Mounted at /content/drive\n"
          ]
        }
      ]
    },
    {
      "cell_type": "markdown",
      "metadata": {
        "id": "qQk5vMvWqgob"
      },
      "source": [
        "## Data Loading"
      ]
    },
    {
      "cell_type": "code",
      "metadata": {
        "id": "sRGSqiaTpU69"
      },
      "source": [
        "data= pd.read_csv(\"/content/drive/MyDrive/Alma Better/AlmaBetter CapstoneProject/NYC Taxi Time Prediction Project/NYC Taxi Data.csv\")"
      ],
      "execution_count": 3,
      "outputs": []
    },
    {
      "cell_type": "code",
      "metadata": {
        "colab": {
          "base_uri": "https://localhost:8080/",
          "height": 313
        },
        "id": "2cJIVd4ipeGQ",
        "outputId": "007ca7b4-d220-4462-89b9-8d1fef19d43a"
      },
      "source": [
        "data.head(5)"
      ],
      "execution_count": 4,
      "outputs": [
        {
          "output_type": "execute_result",
          "data": {
            "text/html": [
              "<div>\n",
              "<style scoped>\n",
              "    .dataframe tbody tr th:only-of-type {\n",
              "        vertical-align: middle;\n",
              "    }\n",
              "\n",
              "    .dataframe tbody tr th {\n",
              "        vertical-align: top;\n",
              "    }\n",
              "\n",
              "    .dataframe thead th {\n",
              "        text-align: right;\n",
              "    }\n",
              "</style>\n",
              "<table border=\"1\" class=\"dataframe\">\n",
              "  <thead>\n",
              "    <tr style=\"text-align: right;\">\n",
              "      <th></th>\n",
              "      <th>id</th>\n",
              "      <th>vendor_id</th>\n",
              "      <th>pickup_datetime</th>\n",
              "      <th>dropoff_datetime</th>\n",
              "      <th>passenger_count</th>\n",
              "      <th>pickup_longitude</th>\n",
              "      <th>pickup_latitude</th>\n",
              "      <th>dropoff_longitude</th>\n",
              "      <th>dropoff_latitude</th>\n",
              "      <th>store_and_fwd_flag</th>\n",
              "      <th>trip_duration</th>\n",
              "    </tr>\n",
              "  </thead>\n",
              "  <tbody>\n",
              "    <tr>\n",
              "      <th>0</th>\n",
              "      <td>id2875421</td>\n",
              "      <td>2</td>\n",
              "      <td>2016-03-14 17:24:55</td>\n",
              "      <td>2016-03-14 17:32:30</td>\n",
              "      <td>1</td>\n",
              "      <td>-73.982155</td>\n",
              "      <td>40.767937</td>\n",
              "      <td>-73.964630</td>\n",
              "      <td>40.765602</td>\n",
              "      <td>N</td>\n",
              "      <td>455</td>\n",
              "    </tr>\n",
              "    <tr>\n",
              "      <th>1</th>\n",
              "      <td>id2377394</td>\n",
              "      <td>1</td>\n",
              "      <td>2016-06-12 00:43:35</td>\n",
              "      <td>2016-06-12 00:54:38</td>\n",
              "      <td>1</td>\n",
              "      <td>-73.980415</td>\n",
              "      <td>40.738564</td>\n",
              "      <td>-73.999481</td>\n",
              "      <td>40.731152</td>\n",
              "      <td>N</td>\n",
              "      <td>663</td>\n",
              "    </tr>\n",
              "    <tr>\n",
              "      <th>2</th>\n",
              "      <td>id3858529</td>\n",
              "      <td>2</td>\n",
              "      <td>2016-01-19 11:35:24</td>\n",
              "      <td>2016-01-19 12:10:48</td>\n",
              "      <td>1</td>\n",
              "      <td>-73.979027</td>\n",
              "      <td>40.763939</td>\n",
              "      <td>-74.005333</td>\n",
              "      <td>40.710087</td>\n",
              "      <td>N</td>\n",
              "      <td>2124</td>\n",
              "    </tr>\n",
              "    <tr>\n",
              "      <th>3</th>\n",
              "      <td>id3504673</td>\n",
              "      <td>2</td>\n",
              "      <td>2016-04-06 19:32:31</td>\n",
              "      <td>2016-04-06 19:39:40</td>\n",
              "      <td>1</td>\n",
              "      <td>-74.010040</td>\n",
              "      <td>40.719971</td>\n",
              "      <td>-74.012268</td>\n",
              "      <td>40.706718</td>\n",
              "      <td>N</td>\n",
              "      <td>429</td>\n",
              "    </tr>\n",
              "    <tr>\n",
              "      <th>4</th>\n",
              "      <td>id2181028</td>\n",
              "      <td>2</td>\n",
              "      <td>2016-03-26 13:30:55</td>\n",
              "      <td>2016-03-26 13:38:10</td>\n",
              "      <td>1</td>\n",
              "      <td>-73.973053</td>\n",
              "      <td>40.793209</td>\n",
              "      <td>-73.972923</td>\n",
              "      <td>40.782520</td>\n",
              "      <td>N</td>\n",
              "      <td>435</td>\n",
              "    </tr>\n",
              "  </tbody>\n",
              "</table>\n",
              "</div>"
            ],
            "text/plain": [
              "          id  vendor_id  ... store_and_fwd_flag trip_duration\n",
              "0  id2875421          2  ...                  N           455\n",
              "1  id2377394          1  ...                  N           663\n",
              "2  id3858529          2  ...                  N          2124\n",
              "3  id3504673          2  ...                  N           429\n",
              "4  id2181028          2  ...                  N           435\n",
              "\n",
              "[5 rows x 11 columns]"
            ]
          },
          "metadata": {},
          "execution_count": 4
        }
      ]
    },
    {
      "cell_type": "code",
      "metadata": {
        "colab": {
          "base_uri": "https://localhost:8080/"
        },
        "id": "_hz9eU4fpjlN",
        "outputId": "9657c98a-4216-4b63-f8ef-446e3e6146b8"
      },
      "source": [
        "data.info()"
      ],
      "execution_count": 5,
      "outputs": [
        {
          "output_type": "stream",
          "name": "stdout",
          "text": [
            "<class 'pandas.core.frame.DataFrame'>\n",
            "RangeIndex: 1458644 entries, 0 to 1458643\n",
            "Data columns (total 11 columns):\n",
            " #   Column              Non-Null Count    Dtype  \n",
            "---  ------              --------------    -----  \n",
            " 0   id                  1458644 non-null  object \n",
            " 1   vendor_id           1458644 non-null  int64  \n",
            " 2   pickup_datetime     1458644 non-null  object \n",
            " 3   dropoff_datetime    1458644 non-null  object \n",
            " 4   passenger_count     1458644 non-null  int64  \n",
            " 5   pickup_longitude    1458644 non-null  float64\n",
            " 6   pickup_latitude     1458644 non-null  float64\n",
            " 7   dropoff_longitude   1458644 non-null  float64\n",
            " 8   dropoff_latitude    1458644 non-null  float64\n",
            " 9   store_and_fwd_flag  1458644 non-null  object \n",
            " 10  trip_duration       1458644 non-null  int64  \n",
            "dtypes: float64(4), int64(3), object(4)\n",
            "memory usage: 122.4+ MB\n"
          ]
        }
      ]
    },
    {
      "cell_type": "markdown",
      "metadata": {
        "id": "Z0LN98M4pqRy"
      },
      "source": [
        "So we have 1458644 rows and 11 columns.\n",
        "\n",
        "4 categorical type and rest are numerical type."
      ]
    },
    {
      "cell_type": "code",
      "metadata": {
        "colab": {
          "base_uri": "https://localhost:8080/"
        },
        "id": "_AxWvgsYp4LX",
        "outputId": "7f200785-60a6-43c8-9284-07d9e6ac64b7"
      },
      "source": [
        "data.isnull().sum()"
      ],
      "execution_count": 6,
      "outputs": [
        {
          "output_type": "execute_result",
          "data": {
            "text/plain": [
              "id                    0\n",
              "vendor_id             0\n",
              "pickup_datetime       0\n",
              "dropoff_datetime      0\n",
              "passenger_count       0\n",
              "pickup_longitude      0\n",
              "pickup_latitude       0\n",
              "dropoff_longitude     0\n",
              "dropoff_latitude      0\n",
              "store_and_fwd_flag    0\n",
              "trip_duration         0\n",
              "dtype: int64"
            ]
          },
          "metadata": {},
          "execution_count": 6
        }
      ]
    },
    {
      "cell_type": "markdown",
      "metadata": {
        "id": "WewFJaB0p_Td"
      },
      "source": [
        "Great no Null Values."
      ]
    },
    {
      "cell_type": "code",
      "metadata": {
        "id": "4mC8Jc0YqEJW"
      },
      "source": [
        "data['pickup_datetime'] = pd.to_datetime(data['pickup_datetime'])\n",
        "data['dropoff_datetime'] = pd.to_datetime(data['dropoff_datetime'])"
      ],
      "execution_count": 7,
      "outputs": []
    },
    {
      "cell_type": "markdown",
      "metadata": {
        "id": "yDcSztg9qZ6S"
      },
      "source": [
        "##Feature Creation"
      ]
    },
    {
      "cell_type": "code",
      "metadata": {
        "id": "Hi6qEh6-qdlo"
      },
      "source": [
        "data['pickup_weekday']=data['pickup_datetime'].dt.day_name()\n",
        "data['dropoff_weekday']=data['dropoff_datetime'].dt.day_name()\n",
        "data['pickup_weekday_num']=data['pickup_datetime'].dt.weekday\n",
        "data['pickup_hour']=data['pickup_datetime'].dt.hour\n",
        "data['month']=data['pickup_datetime'].dt.month"
      ],
      "execution_count": 8,
      "outputs": []
    },
    {
      "cell_type": "code",
      "metadata": {
        "colab": {
          "base_uri": "https://localhost:8080/",
          "height": 313
        },
        "id": "poFpXtNzqQwU",
        "outputId": "efaeb8ee-e92e-4acb-f567-1234bae48da2"
      },
      "source": [
        "data.head()"
      ],
      "execution_count": 9,
      "outputs": [
        {
          "output_type": "execute_result",
          "data": {
            "text/html": [
              "<div>\n",
              "<style scoped>\n",
              "    .dataframe tbody tr th:only-of-type {\n",
              "        vertical-align: middle;\n",
              "    }\n",
              "\n",
              "    .dataframe tbody tr th {\n",
              "        vertical-align: top;\n",
              "    }\n",
              "\n",
              "    .dataframe thead th {\n",
              "        text-align: right;\n",
              "    }\n",
              "</style>\n",
              "<table border=\"1\" class=\"dataframe\">\n",
              "  <thead>\n",
              "    <tr style=\"text-align: right;\">\n",
              "      <th></th>\n",
              "      <th>id</th>\n",
              "      <th>vendor_id</th>\n",
              "      <th>pickup_datetime</th>\n",
              "      <th>dropoff_datetime</th>\n",
              "      <th>passenger_count</th>\n",
              "      <th>pickup_longitude</th>\n",
              "      <th>pickup_latitude</th>\n",
              "      <th>dropoff_longitude</th>\n",
              "      <th>dropoff_latitude</th>\n",
              "      <th>store_and_fwd_flag</th>\n",
              "      <th>trip_duration</th>\n",
              "      <th>pickup_weekday</th>\n",
              "      <th>dropoff_weekday</th>\n",
              "      <th>pickup_weekday_num</th>\n",
              "      <th>pickup_hour</th>\n",
              "      <th>month</th>\n",
              "    </tr>\n",
              "  </thead>\n",
              "  <tbody>\n",
              "    <tr>\n",
              "      <th>0</th>\n",
              "      <td>id2875421</td>\n",
              "      <td>2</td>\n",
              "      <td>2016-03-14 17:24:55</td>\n",
              "      <td>2016-03-14 17:32:30</td>\n",
              "      <td>1</td>\n",
              "      <td>-73.982155</td>\n",
              "      <td>40.767937</td>\n",
              "      <td>-73.964630</td>\n",
              "      <td>40.765602</td>\n",
              "      <td>N</td>\n",
              "      <td>455</td>\n",
              "      <td>Monday</td>\n",
              "      <td>Monday</td>\n",
              "      <td>0</td>\n",
              "      <td>17</td>\n",
              "      <td>3</td>\n",
              "    </tr>\n",
              "    <tr>\n",
              "      <th>1</th>\n",
              "      <td>id2377394</td>\n",
              "      <td>1</td>\n",
              "      <td>2016-06-12 00:43:35</td>\n",
              "      <td>2016-06-12 00:54:38</td>\n",
              "      <td>1</td>\n",
              "      <td>-73.980415</td>\n",
              "      <td>40.738564</td>\n",
              "      <td>-73.999481</td>\n",
              "      <td>40.731152</td>\n",
              "      <td>N</td>\n",
              "      <td>663</td>\n",
              "      <td>Sunday</td>\n",
              "      <td>Sunday</td>\n",
              "      <td>6</td>\n",
              "      <td>0</td>\n",
              "      <td>6</td>\n",
              "    </tr>\n",
              "    <tr>\n",
              "      <th>2</th>\n",
              "      <td>id3858529</td>\n",
              "      <td>2</td>\n",
              "      <td>2016-01-19 11:35:24</td>\n",
              "      <td>2016-01-19 12:10:48</td>\n",
              "      <td>1</td>\n",
              "      <td>-73.979027</td>\n",
              "      <td>40.763939</td>\n",
              "      <td>-74.005333</td>\n",
              "      <td>40.710087</td>\n",
              "      <td>N</td>\n",
              "      <td>2124</td>\n",
              "      <td>Tuesday</td>\n",
              "      <td>Tuesday</td>\n",
              "      <td>1</td>\n",
              "      <td>11</td>\n",
              "      <td>1</td>\n",
              "    </tr>\n",
              "    <tr>\n",
              "      <th>3</th>\n",
              "      <td>id3504673</td>\n",
              "      <td>2</td>\n",
              "      <td>2016-04-06 19:32:31</td>\n",
              "      <td>2016-04-06 19:39:40</td>\n",
              "      <td>1</td>\n",
              "      <td>-74.010040</td>\n",
              "      <td>40.719971</td>\n",
              "      <td>-74.012268</td>\n",
              "      <td>40.706718</td>\n",
              "      <td>N</td>\n",
              "      <td>429</td>\n",
              "      <td>Wednesday</td>\n",
              "      <td>Wednesday</td>\n",
              "      <td>2</td>\n",
              "      <td>19</td>\n",
              "      <td>4</td>\n",
              "    </tr>\n",
              "    <tr>\n",
              "      <th>4</th>\n",
              "      <td>id2181028</td>\n",
              "      <td>2</td>\n",
              "      <td>2016-03-26 13:30:55</td>\n",
              "      <td>2016-03-26 13:38:10</td>\n",
              "      <td>1</td>\n",
              "      <td>-73.973053</td>\n",
              "      <td>40.793209</td>\n",
              "      <td>-73.972923</td>\n",
              "      <td>40.782520</td>\n",
              "      <td>N</td>\n",
              "      <td>435</td>\n",
              "      <td>Saturday</td>\n",
              "      <td>Saturday</td>\n",
              "      <td>5</td>\n",
              "      <td>13</td>\n",
              "      <td>3</td>\n",
              "    </tr>\n",
              "  </tbody>\n",
              "</table>\n",
              "</div>"
            ],
            "text/plain": [
              "          id  vendor_id  ... pickup_hour month\n",
              "0  id2875421          2  ...          17     3\n",
              "1  id2377394          1  ...           0     6\n",
              "2  id3858529          2  ...          11     1\n",
              "3  id3504673          2  ...          19     4\n",
              "4  id2181028          2  ...          13     3\n",
              "\n",
              "[5 rows x 16 columns]"
            ]
          },
          "metadata": {},
          "execution_count": 9
        }
      ]
    },
    {
      "cell_type": "markdown",
      "metadata": {
        "id": "ZmajNQ5hrTPw"
      },
      "source": [
        "Finding Distance by using pickup_lat,pickup_long,dropoff_lat,dropoff_long values"
      ]
    },
    {
      "cell_type": "code",
      "metadata": {
        "id": "TGHtuiEprhc-"
      },
      "source": [
        "from geopy.distance import great_circle"
      ],
      "execution_count": 10,
      "outputs": []
    },
    {
      "cell_type": "code",
      "metadata": {
        "id": "o2bs9AjXrkvl"
      },
      "source": [
        "def find_distance(pickup_lat,pickup_long,dropoff_lat,dropoff_long):\n",
        " \n",
        " start=(pickup_lat,pickup_long)\n",
        " end=(dropoff_lat,dropoff_long)\n",
        " \n",
        " return great_circle(start,end).km"
      ],
      "execution_count": 11,
      "outputs": []
    },
    {
      "cell_type": "code",
      "metadata": {
        "id": "WKTzGzm3rx_f"
      },
      "source": [
        "data['distance'] = data.apply(lambda x: find_distance(x['pickup_latitude'],x['pickup_longitude'],x['dropoff_latitude'],x['dropoff_longitude'] ), axis=1)"
      ],
      "execution_count": 12,
      "outputs": []
    },
    {
      "cell_type": "code",
      "metadata": {
        "colab": {
          "base_uri": "https://localhost:8080/"
        },
        "id": "RwHDaPnnsbxo",
        "outputId": "0feaf5b7-0891-40c0-d7d7-9e9f7ace91dc"
      },
      "source": [
        "data.trip_duration.head()"
      ],
      "execution_count": 13,
      "outputs": [
        {
          "output_type": "execute_result",
          "data": {
            "text/plain": [
              "0     455\n",
              "1     663\n",
              "2    2124\n",
              "3     429\n",
              "4     435\n",
              "Name: trip_duration, dtype: int64"
            ]
          },
          "metadata": {},
          "execution_count": 13
        }
      ]
    },
    {
      "cell_type": "markdown",
      "metadata": {
        "id": "s7YL_9ijsCsv"
      },
      "source": [
        "Now we can find speed"
      ]
    },
    {
      "cell_type": "code",
      "metadata": {
        "id": "Ctd9wsQgsAn4"
      },
      "source": [
        "data['speed'] = (data.distance/(data.trip_duration/3600))"
      ],
      "execution_count": 14,
      "outputs": []
    },
    {
      "cell_type": "code",
      "metadata": {
        "colab": {
          "base_uri": "https://localhost:8080/"
        },
        "id": "3jPe6RSFsK_p",
        "outputId": "d35eb723-86f7-41dd-f3de-8d27bd05b69c"
      },
      "source": [
        "data.info()"
      ],
      "execution_count": 15,
      "outputs": [
        {
          "output_type": "stream",
          "name": "stdout",
          "text": [
            "<class 'pandas.core.frame.DataFrame'>\n",
            "RangeIndex: 1458644 entries, 0 to 1458643\n",
            "Data columns (total 18 columns):\n",
            " #   Column              Non-Null Count    Dtype         \n",
            "---  ------              --------------    -----         \n",
            " 0   id                  1458644 non-null  object        \n",
            " 1   vendor_id           1458644 non-null  int64         \n",
            " 2   pickup_datetime     1458644 non-null  datetime64[ns]\n",
            " 3   dropoff_datetime    1458644 non-null  datetime64[ns]\n",
            " 4   passenger_count     1458644 non-null  int64         \n",
            " 5   pickup_longitude    1458644 non-null  float64       \n",
            " 6   pickup_latitude     1458644 non-null  float64       \n",
            " 7   dropoff_longitude   1458644 non-null  float64       \n",
            " 8   dropoff_latitude    1458644 non-null  float64       \n",
            " 9   store_and_fwd_flag  1458644 non-null  object        \n",
            " 10  trip_duration       1458644 non-null  int64         \n",
            " 11  pickup_weekday      1458644 non-null  object        \n",
            " 12  dropoff_weekday     1458644 non-null  object        \n",
            " 13  pickup_weekday_num  1458644 non-null  int64         \n",
            " 14  pickup_hour         1458644 non-null  int64         \n",
            " 15  month               1458644 non-null  int64         \n",
            " 16  distance            1458644 non-null  float64       \n",
            " 17  speed               1458644 non-null  float64       \n",
            "dtypes: datetime64[ns](2), float64(6), int64(6), object(4)\n",
            "memory usage: 200.3+ MB\n"
          ]
        }
      ]
    },
    {
      "cell_type": "code",
      "metadata": {
        "id": "x-P7dJzQsQ_u"
      },
      "source": [
        "def time_of_day(x):\n",
        "    if x in range(6,12):\n",
        "        return 'Morning'\n",
        "    elif x in range(12,16):\n",
        "        return 'Afternoon'\n",
        "    elif x in range(16,22):\n",
        "        return 'Evening'\n",
        "    else:\n",
        "        return 'Late night'"
      ],
      "execution_count": 16,
      "outputs": []
    },
    {
      "cell_type": "code",
      "metadata": {
        "id": "ZkuE6TxyslJ6"
      },
      "source": [
        "data['pickup_timeofday']=data['pickup_hour'].apply(time_of_day)"
      ],
      "execution_count": 17,
      "outputs": []
    },
    {
      "cell_type": "code",
      "metadata": {
        "colab": {
          "base_uri": "https://localhost:8080/",
          "height": 313
        },
        "id": "DGlGDBZHsnrK",
        "outputId": "3b0abce8-7d4f-4b32-c3ab-d3023f89b9df"
      },
      "source": [
        "data.head()"
      ],
      "execution_count": 18,
      "outputs": [
        {
          "output_type": "execute_result",
          "data": {
            "text/html": [
              "<div>\n",
              "<style scoped>\n",
              "    .dataframe tbody tr th:only-of-type {\n",
              "        vertical-align: middle;\n",
              "    }\n",
              "\n",
              "    .dataframe tbody tr th {\n",
              "        vertical-align: top;\n",
              "    }\n",
              "\n",
              "    .dataframe thead th {\n",
              "        text-align: right;\n",
              "    }\n",
              "</style>\n",
              "<table border=\"1\" class=\"dataframe\">\n",
              "  <thead>\n",
              "    <tr style=\"text-align: right;\">\n",
              "      <th></th>\n",
              "      <th>id</th>\n",
              "      <th>vendor_id</th>\n",
              "      <th>pickup_datetime</th>\n",
              "      <th>dropoff_datetime</th>\n",
              "      <th>passenger_count</th>\n",
              "      <th>pickup_longitude</th>\n",
              "      <th>pickup_latitude</th>\n",
              "      <th>dropoff_longitude</th>\n",
              "      <th>dropoff_latitude</th>\n",
              "      <th>store_and_fwd_flag</th>\n",
              "      <th>trip_duration</th>\n",
              "      <th>pickup_weekday</th>\n",
              "      <th>dropoff_weekday</th>\n",
              "      <th>pickup_weekday_num</th>\n",
              "      <th>pickup_hour</th>\n",
              "      <th>month</th>\n",
              "      <th>distance</th>\n",
              "      <th>speed</th>\n",
              "      <th>pickup_timeofday</th>\n",
              "    </tr>\n",
              "  </thead>\n",
              "  <tbody>\n",
              "    <tr>\n",
              "      <th>0</th>\n",
              "      <td>id2875421</td>\n",
              "      <td>2</td>\n",
              "      <td>2016-03-14 17:24:55</td>\n",
              "      <td>2016-03-14 17:32:30</td>\n",
              "      <td>1</td>\n",
              "      <td>-73.982155</td>\n",
              "      <td>40.767937</td>\n",
              "      <td>-73.964630</td>\n",
              "      <td>40.765602</td>\n",
              "      <td>N</td>\n",
              "      <td>455</td>\n",
              "      <td>Monday</td>\n",
              "      <td>Monday</td>\n",
              "      <td>0</td>\n",
              "      <td>17</td>\n",
              "      <td>3</td>\n",
              "      <td>1.498523</td>\n",
              "      <td>11.856445</td>\n",
              "      <td>Evening</td>\n",
              "    </tr>\n",
              "    <tr>\n",
              "      <th>1</th>\n",
              "      <td>id2377394</td>\n",
              "      <td>1</td>\n",
              "      <td>2016-06-12 00:43:35</td>\n",
              "      <td>2016-06-12 00:54:38</td>\n",
              "      <td>1</td>\n",
              "      <td>-73.980415</td>\n",
              "      <td>40.738564</td>\n",
              "      <td>-73.999481</td>\n",
              "      <td>40.731152</td>\n",
              "      <td>N</td>\n",
              "      <td>663</td>\n",
              "      <td>Sunday</td>\n",
              "      <td>Sunday</td>\n",
              "      <td>6</td>\n",
              "      <td>0</td>\n",
              "      <td>6</td>\n",
              "      <td>1.805510</td>\n",
              "      <td>9.803673</td>\n",
              "      <td>Late night</td>\n",
              "    </tr>\n",
              "    <tr>\n",
              "      <th>2</th>\n",
              "      <td>id3858529</td>\n",
              "      <td>2</td>\n",
              "      <td>2016-01-19 11:35:24</td>\n",
              "      <td>2016-01-19 12:10:48</td>\n",
              "      <td>1</td>\n",
              "      <td>-73.979027</td>\n",
              "      <td>40.763939</td>\n",
              "      <td>-74.005333</td>\n",
              "      <td>40.710087</td>\n",
              "      <td>N</td>\n",
              "      <td>2124</td>\n",
              "      <td>Tuesday</td>\n",
              "      <td>Tuesday</td>\n",
              "      <td>1</td>\n",
              "      <td>11</td>\n",
              "      <td>1</td>\n",
              "      <td>6.385108</td>\n",
              "      <td>10.822216</td>\n",
              "      <td>Morning</td>\n",
              "    </tr>\n",
              "    <tr>\n",
              "      <th>3</th>\n",
              "      <td>id3504673</td>\n",
              "      <td>2</td>\n",
              "      <td>2016-04-06 19:32:31</td>\n",
              "      <td>2016-04-06 19:39:40</td>\n",
              "      <td>1</td>\n",
              "      <td>-74.010040</td>\n",
              "      <td>40.719971</td>\n",
              "      <td>-74.012268</td>\n",
              "      <td>40.706718</td>\n",
              "      <td>N</td>\n",
              "      <td>429</td>\n",
              "      <td>Wednesday</td>\n",
              "      <td>Wednesday</td>\n",
              "      <td>2</td>\n",
              "      <td>19</td>\n",
              "      <td>4</td>\n",
              "      <td>1.485501</td>\n",
              "      <td>12.465739</td>\n",
              "      <td>Evening</td>\n",
              "    </tr>\n",
              "    <tr>\n",
              "      <th>4</th>\n",
              "      <td>id2181028</td>\n",
              "      <td>2</td>\n",
              "      <td>2016-03-26 13:30:55</td>\n",
              "      <td>2016-03-26 13:38:10</td>\n",
              "      <td>1</td>\n",
              "      <td>-73.973053</td>\n",
              "      <td>40.793209</td>\n",
              "      <td>-73.972923</td>\n",
              "      <td>40.782520</td>\n",
              "      <td>N</td>\n",
              "      <td>435</td>\n",
              "      <td>Saturday</td>\n",
              "      <td>Saturday</td>\n",
              "      <td>5</td>\n",
              "      <td>13</td>\n",
              "      <td>3</td>\n",
              "      <td>1.188590</td>\n",
              "      <td>9.836608</td>\n",
              "      <td>Afternoon</td>\n",
              "    </tr>\n",
              "  </tbody>\n",
              "</table>\n",
              "</div>"
            ],
            "text/plain": [
              "          id  vendor_id  ...      speed pickup_timeofday\n",
              "0  id2875421          2  ...  11.856445          Evening\n",
              "1  id2377394          1  ...   9.803673       Late night\n",
              "2  id3858529          2  ...  10.822216          Morning\n",
              "3  id3504673          2  ...  12.465739          Evening\n",
              "4  id2181028          2  ...   9.836608        Afternoon\n",
              "\n",
              "[5 rows x 19 columns]"
            ]
          },
          "metadata": {},
          "execution_count": 18
        }
      ]
    },
    {
      "cell_type": "markdown",
      "metadata": {
        "id": "4b_28FC6s4C1"
      },
      "source": [
        "## Univariate Analysis"
      ]
    },
    {
      "cell_type": "markdown",
      "metadata": {
        "id": "flgdYjT21nWE"
      },
      "source": [
        "### Trip Duration"
      ]
    },
    {
      "cell_type": "code",
      "metadata": {
        "colab": {
          "base_uri": "https://localhost:8080/",
          "height": 345
        },
        "id": "Zz_p01PWs7DW",
        "outputId": "d5abf995-e4af-4188-f16a-c90035ee35be"
      },
      "source": [
        "#plotting target variable trip duration\n",
        "plt.figure(figsize = (10,5))\n",
        "sns.distplot(data['trip_duration'])\n",
        "plt.xlabel('Trip Duration')\n",
        "plt.show()"
      ],
      "execution_count": 19,
      "outputs": [
        {
          "output_type": "display_data",
          "data": {
            "image/png": "[encoded data removed]",
            "text/plain": [
              "<Figure size 720x360 with 1 Axes>"
            ]
          },
          "metadata": {
            "needs_background": "light"
          }
        }
      ]
    },
    {
      "cell_type": "markdown",
      "metadata": {
        "id": "skt3KzCCtWzS"
      },
      "source": [
        "Since trip duration looks skewed we can apply log10 tomake it normal distribution"
      ]
    },
    {
      "cell_type": "code",
      "metadata": {
        "colab": {
          "base_uri": "https://localhost:8080/",
          "height": 334
        },
        "id": "QBKLgV42s07M",
        "outputId": "d0cbab32-a2ea-4420-d240-789793c32820"
      },
      "source": [
        "plt.figure(figsize = (10,5))\n",
        "sns.distplot(np.log10(data['trip_duration']))\n",
        "plt.xlabel('Trip Duration')\n",
        "plt.show()"
      ],
      "execution_count": 20,
      "outputs": [
        {
          "output_type": "display_data",
          "data": {
            "image/png": "[encoded data removed]",
            "text/plain": [
              "<Figure size 720x360 with 1 Axes>"
            ]
          },
          "metadata": {
            "needs_background": "light"
          }
        }
      ]
    },
    {
      "cell_type": "markdown",
      "metadata": {
        "id": "7HhzKvyLtpnB"
      },
      "source": [
        "Finding outliers"
      ]
    },
    {
      "cell_type": "code",
      "metadata": {
        "colab": {
          "base_uri": "https://localhost:8080/",
          "height": 279
        },
        "id": "h_SnNTAttru0",
        "outputId": "1020aeea-29a8-4e4d-be3e-5b7e19630c20"
      },
      "source": [
        "plt.figure(figsize = (10,4))\n",
        "sns.boxplot(data.trip_duration)\n",
        "plt.xlabel('Trip Duration')\n",
        "plt.show()"
      ],
      "execution_count": 21,
      "outputs": [
        {
          "output_type": "display_data",
          "data": {
            "image/png": "[encoded data removed]",
            "text/plain": [
              "<Figure size 720x288 with 1 Axes>"
            ]
          },
          "metadata": {
            "needs_background": "light"
          }
        }
      ]
    },
    {
      "cell_type": "code",
      "metadata": {
        "id": "s20m8pbTtmOV"
      },
      "source": [
        "  duration= data['trip_duration'].values"
      ],
      "execution_count": 22,
      "outputs": []
    },
    {
      "cell_type": "code",
      "metadata": {
        "id": "mYg8s1w7uRIi"
      },
      "source": [
        "duration=np.sort(duration)"
      ],
      "execution_count": 23,
      "outputs": []
    },
    {
      "cell_type": "code",
      "metadata": {
        "colab": {
          "base_uri": "https://localhost:8080/"
        },
        "id": "3OUavPpKuYcn",
        "outputId": "4cf667c4-80d8-4d0d-86e2-fe4ddbddb9aa"
      },
      "source": [
        "print('0 percentile value is ',duration.min())"
      ],
      "execution_count": 24,
      "outputs": [
        {
          "output_type": "stream",
          "name": "stdout",
          "text": [
            "0 percentile value is  1\n"
          ]
        }
      ]
    },
    {
      "cell_type": "code",
      "metadata": {
        "colab": {
          "base_uri": "https://localhost:8080/"
        },
        "id": "sYMDfvTBucR_",
        "outputId": "55389039-4631-4f9d-cd17-b2148bb35b4f"
      },
      "source": [
        "print('100 percentile value is',duration.max())"
      ],
      "execution_count": 25,
      "outputs": [
        {
          "output_type": "stream",
          "name": "stdout",
          "text": [
            "100 percentile value is 3526282\n"
          ]
        }
      ]
    },
    {
      "cell_type": "code",
      "metadata": {
        "colab": {
          "base_uri": "https://localhost:8080/"
        },
        "id": "ctHGRftUufg_",
        "outputId": "59f50081-b63f-453a-840e-28cdc6f47618"
      },
      "source": [
        "for i in range(0,100,5):\n",
        "  duration= data['trip_duration'].values\n",
        "  duration= np.sort(duration, axis= None)\n",
        "  print(\"{} percentile value is {}\".format(i, duration[int(len(duration)*(float(i)/100))]))\n",
        "print('100 percentile value is',duration.max())"
      ],
      "execution_count": 26,
      "outputs": [
        {
          "output_type": "stream",
          "name": "stdout",
          "text": [
            "0 percentile value is 1\n",
            "5 percentile value is 180\n",
            "10 percentile value is 245\n",
            "15 percentile value is 298\n",
            "20 percentile value is 348\n",
            "25 percentile value is 397\n",
            "30 percentile value is 446\n",
            "35 percentile value is 496\n",
            "40 percentile value is 548\n",
            "45 percentile value is 603\n",
            "50 percentile value is 662\n",
            "55 percentile value is 727\n",
            "60 percentile value is 798\n",
            "65 percentile value is 877\n",
            "70 percentile value is 968\n",
            "75 percentile value is 1075\n",
            "80 percentile value is 1208\n",
            "85 percentile value is 1383\n",
            "90 percentile value is 1634\n",
            "95 percentile value is 2104\n",
            "100 percentile value is 3526282\n"
          ]
        }
      ]
    },
    {
      "cell_type": "code",
      "metadata": {
        "colab": {
          "base_uri": "https://localhost:8080/"
        },
        "id": "Uv9kqSJDx4UT",
        "outputId": "3d7eeabb-cd2c-4829-94f6-13b2a8c87120"
      },
      "source": [
        "for i in range(95,100):\n",
        "  duration= data['trip_duration'].values\n",
        "  duration= np.sort(duration, axis= None)\n",
        "  print(\"{} percentile value is {}\".format(i, duration[int(len(duration)*(float(i)/100))]))\n",
        "print(\"100 percentile value is \",duration[-1])"
      ],
      "execution_count": 27,
      "outputs": [
        {
          "output_type": "stream",
          "name": "stdout",
          "text": [
            "95 percentile value is 2104\n",
            "96 percentile value is 2273\n",
            "97 percentile value is 2497\n",
            "98 percentile value is 2829\n",
            "99 percentile value is 3440\n",
            "100 percentile value is  3526282\n"
          ]
        }
      ]
    },
    {
      "cell_type": "markdown",
      "metadata": {
        "id": "6jzw9IqTyHde"
      },
      "source": [
        "100 percentile value is clearly out of range"
      ]
    },
    {
      "cell_type": "code",
      "metadata": {
        "colab": {
          "base_uri": "https://localhost:8080/",
          "height": 388
        },
        "id": "CYFAJNgkyOOW",
        "outputId": "f2e9bb7f-8aba-47be-eac8-a3b28c62e4ad"
      },
      "source": [
        "# No.of trips taken in periods of 5 min gaps\n",
        "plt.figure(figsize = (10,5))\n",
        "data.trip_duration.groupby(pd.cut(data.trip_duration, np.arange(1,7200,300))).count().plot(kind='bar')\n",
        "plt.xlabel('Trip Counts')\n",
        "plt.ylabel('Trip Duration (seconds)')\n",
        "plt.show()"
      ],
      "execution_count": 28,
      "outputs": [
        {
          "output_type": "display_data",
          "data": {
            "image/png": "[encoded data removed]",
            "text/plain": [
              "<Figure size 720x360 with 1 Axes>"
            ]
          },
          "metadata": {
            "needs_background": "light"
          }
        }
      ]
    },
    {
      "cell_type": "markdown",
      "metadata": {
        "id": "MBoslhxP0XMq"
      },
      "source": [
        "There are very few trips which have duration greater than 4800 seconds."
      ]
    },
    {
      "cell_type": "markdown",
      "metadata": {
        "id": "-kgB2Y7K0tmU"
      },
      "source": [
        "we should get rid of data having trip duration greater than 4800 seconds and also trip duration less than 60 seconds)"
      ]
    },
    {
      "cell_type": "code",
      "metadata": {
        "id": "8M9GOJc-0oFx"
      },
      "source": [
        "data = data[data.trip_duration <= 4800]\n",
        "data = data[data.trip_duration >= 60]"
      ],
      "execution_count": 29,
      "outputs": []
    },
    {
      "cell_type": "code",
      "metadata": {
        "colab": {
          "base_uri": "https://localhost:8080/",
          "height": 334
        },
        "id": "-7WRjsX2yFdJ",
        "outputId": "63663917-b6e9-4ea3-a4d4-414ee45e6a1f"
      },
      "source": [
        "plt.figure(figsize = (10,5))\n",
        "sns.boxplot(data.trip_duration)\n",
        "plt.xlabel('Trip Duration (seconds)')\n",
        "plt.show()"
      ],
      "execution_count": 30,
      "outputs": [
        {
          "output_type": "display_data",
          "data": {
            "image/png": "[encoded data removed]",
            "text/plain": [
              "<Figure size 720x360 with 1 Axes>"
            ]
          },
          "metadata": {
            "needs_background": "light"
          }
        }
      ]
    },
    {
      "cell_type": "markdown",
      "metadata": {
        "id": "ihIY9RXx1Pbw"
      },
      "source": [
        "*   We can observe that most of the trips took 0 - 30 mins (2000 seconds) to complete"
      ]
    },
    {
      "cell_type": "markdown",
      "metadata": {
        "id": "k7DfAr0z1euT"
      },
      "source": [
        "### Trips per Time of Day"
      ]
    },
    {
      "cell_type": "code",
      "metadata": {
        "colab": {
          "base_uri": "https://localhost:8080/",
          "height": 350
        },
        "id": "bCrh5bqc1jWF",
        "outputId": "615ef793-e478-4b11-da7b-2ab398b33e4f"
      },
      "source": [
        "plt.figure(figsize = (10,5))\n",
        "sns.countplot(x=\"pickup_timeofday\",data=data)\n",
        "plt.title('Pickup Time of Day')\n",
        "plt.xlabel('Parts of the Day')\n",
        "plt.ylabel('Count')\n",
        "plt.show()"
      ],
      "execution_count": 31,
      "outputs": [
        {
          "output_type": "display_data",
          "data": {
            "image/png": "[encoded data removed]",
            "text/plain": [
              "<Figure size 720x360 with 1 Axes>"
            ]
          },
          "metadata": {
            "needs_background": "light"
          }
        }
      ]
    },
    {
      "cell_type": "markdown",
      "metadata": {
        "id": "7N5NK0CW1x5J"
      },
      "source": [
        "* Seems like evenigs have the most number of trips"
      ]
    },
    {
      "cell_type": "markdown",
      "metadata": {
        "id": "3IWF-21p15wE"
      },
      "source": [
        "### Vendor ID"
      ]
    },
    {
      "cell_type": "code",
      "metadata": {
        "colab": {
          "base_uri": "https://localhost:8080/",
          "height": 334
        },
        "id": "IDEyW7qB176T",
        "outputId": "79621c40-4d7b-451b-8b32-f9d220a43c7a"
      },
      "source": [
        "plt.figure(figsize = (10,5))\n",
        "sns.countplot(data.vendor_id)\n",
        "plt.xlabel('Vendor ID')\n",
        "plt.ylabel('Count')\n",
        "plt.show()"
      ],
      "execution_count": 32,
      "outputs": [
        {
          "output_type": "display_data",
          "data": {
            "image/png": "[encoded data removed]",
            "text/plain": [
              "<Figure size 720x360 with 1 Axes>"
            ]
          },
          "metadata": {
            "needs_background": "light"
          }
        }
      ]
    },
    {
      "cell_type": "markdown",
      "metadata": {
        "id": "-6wJIFkM1_w5"
      },
      "source": [
        "* Not very much great difference"
      ]
    },
    {
      "cell_type": "markdown",
      "metadata": {
        "id": "M7AM04QO2FCM"
      },
      "source": [
        "### Passenger Count"
      ]
    },
    {
      "cell_type": "code",
      "metadata": {
        "colab": {
          "base_uri": "https://localhost:8080/",
          "height": 345
        },
        "id": "-F2mGUXl13zN",
        "outputId": "77bc31f2-4c4e-44d9-e10a-a911753c96e4"
      },
      "source": [
        "plt.figure(figsize = (10,5))\n",
        "sns.countplot(x='passenger_count',data=data)\n",
        "plt.ylabel('Count')\n",
        "plt.xlabel('No.of Passngers')\n",
        "plt.show()"
      ],
      "execution_count": 33,
      "outputs": [
        {
          "output_type": "display_data",
          "data": {
            "image/png": "[encoded data removed]",
            "text/plain": [
              "<Figure size 720x360 with 1 Axes>"
            ]
          },
          "metadata": {
            "needs_background": "light"
          }
        }
      ]
    },
    {
      "cell_type": "markdown",
      "metadata": {
        "id": "gDTrwN-C2KrI"
      },
      "source": [
        "* Let us remove the rows which have 0 or greater than 6 passenger count"
      ]
    },
    {
      "cell_type": "code",
      "metadata": {
        "id": "Yevxl88h2cDk"
      },
      "source": [
        "data=data[data['passenger_count']!=0]\n",
        "data=data[data['passenger_count']<=6]"
      ],
      "execution_count": 34,
      "outputs": []
    },
    {
      "cell_type": "code",
      "metadata": {
        "colab": {
          "base_uri": "https://localhost:8080/",
          "height": 345
        },
        "id": "bXCIUqlh1cvF",
        "outputId": "15fe4efd-dd10-4c9a-a1b6-64d0ed1f8e88"
      },
      "source": [
        "plt.figure(figsize = (10,5))\n",
        "sns.countplot(x='passenger_count',data=data)\n",
        "plt.ylabel('Count')\n",
        "plt.xlabel('No.of Passngers')\n",
        "plt.show()"
      ],
      "execution_count": 35,
      "outputs": [
        {
          "output_type": "display_data",
          "data": {
            "image/png": "[encoded data removed]",
            "text/plain": [
              "<Figure size 720x360 with 1 Axes>"
            ]
          },
          "metadata": {
            "needs_background": "light"
          }
        }
      ]
    },
    {
      "cell_type": "markdown",
      "metadata": {
        "id": "piTqhY4X2jzD"
      },
      "source": [
        "* Wee can see that highest amount of trips were taken by single passengers"
      ]
    },
    {
      "cell_type": "markdown",
      "metadata": {
        "id": "9nT-9l7u2ty3"
      },
      "source": [
        "### Store and Forward Flag"
      ]
    },
    {
      "cell_type": "code",
      "metadata": {
        "colab": {
          "base_uri": "https://localhost:8080/"
        },
        "id": "ZPJUw0cL2yop",
        "outputId": "0c3aaed6-8918-4889-a6bc-27546346d46a"
      },
      "source": [
        "data['store_and_fwd_flag'].value_counts()"
      ],
      "execution_count": 36,
      "outputs": [
        {
          "output_type": "execute_result",
          "data": {
            "text/plain": [
              "N    1437924\n",
              "Y       7846\n",
              "Name: store_and_fwd_flag, dtype: int64"
            ]
          },
          "metadata": {},
          "execution_count": 36
        }
      ]
    },
    {
      "cell_type": "code",
      "metadata": {
        "colab": {
          "base_uri": "https://localhost:8080/"
        },
        "id": "pa9hrKeo28sR",
        "outputId": "60aa93c3-b802-4144-e56b-de4ce6081769"
      },
      "source": [
        "data['store_and_fwd_flag'].value_counts(normalize=True)"
      ],
      "execution_count": 37,
      "outputs": [
        {
          "output_type": "execute_result",
          "data": {
            "text/plain": [
              "N    0.994573\n",
              "Y    0.005427\n",
              "Name: store_and_fwd_flag, dtype: float64"
            ]
          },
          "metadata": {},
          "execution_count": 37
        }
      ]
    },
    {
      "cell_type": "markdown",
      "metadata": {
        "id": "3Zn8yT7-3Gm6"
      },
      "source": [
        "*   We can see that only about 1% of the trip details were stored in the vehicle memory first"
      ]
    },
    {
      "cell_type": "code",
      "metadata": {
        "colab": {
          "base_uri": "https://localhost:8080/",
          "height": 345
        },
        "id": "gIsH79XY2q6I",
        "outputId": "622a2c36-884e-436d-d1cc-a55e10264469"
      },
      "source": [
        "plt.figure(figsize = (10,5))\n",
        "sns.countplot(x='store_and_fwd_flag',data=data)\n",
        "plt.ylabel('Count')\n",
        "plt.xlabel('Store and forward flag')\n",
        "plt.show()"
      ],
      "execution_count": 38,
      "outputs": [
        {
          "output_type": "display_data",
          "data": {
            "image/png": "[encoded data removed]",
            "text/plain": [
              "<Figure size 720x360 with 1 Axes>"
            ]
          },
          "metadata": {
            "needs_background": "light"
          }
        }
      ]
    },
    {
      "cell_type": "markdown",
      "metadata": {
        "id": "tKWNUBrh3Z6v"
      },
      "source": [
        "### Distance"
      ]
    },
    {
      "cell_type": "code",
      "metadata": {
        "id": "mwgxY0bU3c2a"
      },
      "source": [
        "distance= data['distance'].values\n",
        "distance= np.sort(distance, axis= None)"
      ],
      "execution_count": 39,
      "outputs": []
    },
    {
      "cell_type": "code",
      "metadata": {
        "colab": {
          "base_uri": "https://localhost:8080/"
        },
        "id": "Bx3PeBcm31Js",
        "outputId": "0b5ebbaa-5637-492e-af5f-45efb7647b6f"
      },
      "source": [
        "for i in range(0,100,10):\n",
        "  distance= data['distance'].values\n",
        "  distance= np.sort(distance, axis= None)\n",
        "  print(\"{} percentile value is {}\".format(i, distance[int(len(distance)*(float(i)/100))]))\n",
        "print('100 percentile value is',distance.max())"
      ],
      "execution_count": 40,
      "outputs": [
        {
          "output_type": "stream",
          "name": "stdout",
          "text": [
            "0 percentile value is 0.0\n",
            "10 percentile value is 0.8093061824130643\n",
            "20 percentile value is 1.1026472610520168\n",
            "30 percentile value is 1.39058872417481\n",
            "40 percentile value is 1.716615188182333\n",
            "50 percentile value is 2.103475699940145\n",
            "60 percentile value is 2.6056675665794966\n",
            "70 percentile value is 3.343154788968105\n",
            "80 percentile value is 4.61962459854144\n",
            "90 percentile value is 7.593696297990768\n",
            "100 percentile value is 1240.9104296218293\n"
          ]
        }
      ]
    },
    {
      "cell_type": "code",
      "metadata": {
        "colab": {
          "base_uri": "https://localhost:8080/"
        },
        "id": "_X3egvJN1Qym",
        "outputId": "e618499b-a4ef-4711-ea3d-21d274d9f244"
      },
      "source": [
        "for i in range(90,100):\n",
        "  distance= data['distance'].values\n",
        "  distance= np.sort(distance, axis= None)\n",
        "  print(\"{} percentile value is {}\".format(i, distance[int(len(distance)*(float(i)/100))]))\n",
        "print('100 percentile value is',distance.max())"
      ],
      "execution_count": 41,
      "outputs": [
        {
          "output_type": "stream",
          "name": "stdout",
          "text": [
            "90 percentile value is 7.593696297990768\n",
            "91 percentile value is 8.207780822339672\n",
            "92 percentile value is 8.841237389244656\n",
            "93 percentile value is 9.4106389538407\n",
            "94 percentile value is 10.015202848603936\n",
            "95 percentile value is 10.90093839508433\n",
            "96 percentile value is 12.59665017604999\n",
            "97 percentile value is 15.069118743415903\n",
            "98 percentile value is 19.11293911352718\n",
            "99 percentile value is 20.711628319423614\n",
            "100 percentile value is 1240.9104296218293\n"
          ]
        }
      ]
    },
    {
      "cell_type": "code",
      "metadata": {
        "colab": {
          "base_uri": "https://localhost:8080/",
          "height": 334
        },
        "id": "_JVR33lN4X-n",
        "outputId": "6dcb4bb2-b1a3-4fd0-f240-336465a67a0c"
      },
      "source": [
        "plt.figure(figsize = (10,5))\n",
        "sns.boxplot(data.distance)\n",
        "plt.xlabel('Distance Travelled')\n",
        "plt.show()"
      ],
      "execution_count": 42,
      "outputs": [
        {
          "output_type": "display_data",
          "data": {
            "image/png": "[encoded data removed]",
            "text/plain": [
              "<Figure size 720x360 with 1 Axes>"
            ]
          },
          "metadata": {
            "needs_background": "light"
          }
        }
      ]
    },
    {
      "cell_type": "markdown",
      "metadata": {
        "id": "YdgVaC-95KE4"
      },
      "source": [
        "* Since we removed the data having greater than 80 min(4800sec) so we can remove the distance travelled > 100 km, and we seen that 99 percentile of the distance travelled is about 24 km"
      ]
    },
    {
      "cell_type": "code",
      "metadata": {
        "id": "rpiFXBRq7bMJ"
      },
      "source": [
        "data = data[data.distance <= 100]\n",
        "data = data[data.distance >=1 ]"
      ],
      "execution_count": 43,
      "outputs": []
    },
    {
      "cell_type": "code",
      "metadata": {
        "colab": {
          "base_uri": "https://localhost:8080/",
          "height": 334
        },
        "id": "ghZyVbD87uEf",
        "outputId": "a75172bf-00b0-44d6-c9ec-1d889ac1f3e2"
      },
      "source": [
        "plt.figure(figsize = (10,5))\n",
        "sns.boxplot(data.distance)\n",
        "plt.xlabel('Distance Travelled')\n",
        "plt.show()"
      ],
      "execution_count": 44,
      "outputs": [
        {
          "output_type": "display_data",
          "data": {
            "image/png": "[encoded data removed]",
            "text/plain": [
              "<Figure size 720x360 with 1 Axes>"
            ]
          },
          "metadata": {
            "needs_background": "light"
          }
        }
      ]
    },
    {
      "cell_type": "markdown",
      "metadata": {
        "id": "8hQGCbof73WX"
      },
      "source": [
        "### Speed"
      ]
    },
    {
      "cell_type": "code",
      "metadata": {
        "colab": {
          "base_uri": "https://localhost:8080/",
          "height": 334
        },
        "id": "buLmjxG375ca",
        "outputId": "681a4b4d-814e-4ca2-af1a-61d1dc404c67"
      },
      "source": [
        "plt.figure(figsize = (10,5))\n",
        "sns.distplot(data['speed'])\n",
        "plt.xlabel('speed')\n",
        "plt.show()"
      ],
      "execution_count": 45,
      "outputs": [
        {
          "output_type": "display_data",
          "data": {
            "image/png": "[encoded data removed]",
            "text/plain": [
              "<Figure size 720x360 with 1 Axes>"
            ]
          },
          "metadata": {
            "needs_background": "light"
          }
        }
      ]
    },
    {
      "cell_type": "markdown",
      "metadata": {
        "id": "YRCo7QbM8YFn"
      },
      "source": [
        "We can see that most of the speed ranges between 0 to 100 kmph"
      ]
    },
    {
      "cell_type": "code",
      "metadata": {
        "colab": {
          "base_uri": "https://localhost:8080/"
        },
        "id": "DyFzzv0L72PD",
        "outputId": "149b61bd-845f-4588-ddb1-3fb6172d9890"
      },
      "source": [
        "for i in range(0,100,5):\n",
        "  speed= data['speed'].values\n",
        "  speed= np.sort(speed, axis= None)\n",
        "  print(\"{} percentile value is {}\".format(i, speed[int(len(speed)*(float(i)/100))]))\n",
        "print('100 percentile value is',speed.max())"
      ],
      "execution_count": 46,
      "outputs": [
        {
          "output_type": "stream",
          "name": "stdout",
          "text": [
            "0 percentile value is 0.7774622981972946\n",
            "5 percentile value is 6.123078820561964\n",
            "10 percentile value is 7.359069366433507\n",
            "15 percentile value is 8.303554643948322\n",
            "20 percentile value is 9.1244285537377\n",
            "25 percentile value is 9.882297511300653\n",
            "30 percentile value is 10.609765370790797\n",
            "35 percentile value is 11.319329124081843\n",
            "40 percentile value is 12.03176513232204\n",
            "45 percentile value is 12.771327732602993\n",
            "50 percentile value is 13.545938012292265\n",
            "55 percentile value is 14.363268420760068\n",
            "60 percentile value is 15.260577604607917\n",
            "65 percentile value is 16.25167563096324\n",
            "70 percentile value is 17.36250761520031\n",
            "75 percentile value is 18.678093539350968\n",
            "80 percentile value is 20.27957843604638\n",
            "85 percentile value is 22.329769048727904\n",
            "90 percentile value is 25.265542856507846\n",
            "95 percentile value is 30.36110606966675\n",
            "100 percentile value is 583.7351372418125\n"
          ]
        }
      ]
    },
    {
      "cell_type": "code",
      "metadata": {
        "colab": {
          "base_uri": "https://localhost:8080/"
        },
        "id": "Orb6RsWl9VQG",
        "outputId": "fc600590-5abb-4c0d-f4e9-bd9b01d4b1c0"
      },
      "source": [
        "for i in range(95,100):\n",
        "  speed= data['speed'].values\n",
        "  speed= np.sort(speed, axis= None)\n",
        "  print(\"{} percentile value is {}\".format(i, speed[int(len(speed)*(float(i)/100))]))\n",
        "print('100 percentile value is',speed.max())"
      ],
      "execution_count": 47,
      "outputs": [
        {
          "output_type": "stream",
          "name": "stdout",
          "text": [
            "95 percentile value is 30.36110606966675\n",
            "96 percentile value is 32.03197998942145\n",
            "97 percentile value is 34.1432325670317\n",
            "98 percentile value is 37.05719430091841\n",
            "99 percentile value is 41.501279136766\n",
            "100 percentile value is 583.7351372418125\n"
          ]
        }
      ]
    },
    {
      "cell_type": "markdown",
      "metadata": {
        "id": "J29xr5yA_ZNv"
      },
      "source": [
        "Now we can remove the data having speed greater than 50kmph(over speed is not legal) and less than 1kmph"
      ]
    },
    {
      "cell_type": "code",
      "metadata": {
        "id": "Fdz6MHam-67Y"
      },
      "source": [
        "data = data[data.speed <= 50]\n",
        "data = data[data.speed >=1]"
      ],
      "execution_count": 48,
      "outputs": []
    },
    {
      "cell_type": "code",
      "metadata": {
        "colab": {
          "base_uri": "https://localhost:8080/",
          "height": 334
        },
        "id": "1NvltcAv_TVy",
        "outputId": "1ba493b6-50ce-4115-905b-1c5205839cac"
      },
      "source": [
        "plt.figure(figsize = (10,5))\n",
        "sns.boxplot(data.speed)\n",
        "plt.xlabel('Speed')\n",
        "plt.show()"
      ],
      "execution_count": 49,
      "outputs": [
        {
          "output_type": "display_data",
          "data": {
            "image/png": "[encoded data removed]",
            "text/plain": [
              "<Figure size 720x360 with 1 Axes>"
            ]
          },
          "metadata": {
            "needs_background": "light"
          }
        }
      ]
    },
    {
      "cell_type": "code",
      "metadata": {
        "colab": {
          "base_uri": "https://localhost:8080/",
          "height": 363
        },
        "id": "gb1g_qsK_uEl",
        "outputId": "5b9d17ef-f7b0-484a-ddff-fee4fd1f9ac2"
      },
      "source": [
        "plt.figure(figsize = (10,5))\n",
        "data.speed.groupby(pd.cut(data.speed, np.arange(0,55,5))).count().plot(kind ='bar')\n",
        "plt.ylabel('Trip count')\n",
        "plt.xlabel('Speed (Kmph)')\n",
        "plt.show()"
      ],
      "execution_count": 50,
      "outputs": [
        {
          "output_type": "display_data",
          "data": {
            "image/png": "[encoded data removed]",
            "text/plain": [
              "<Figure size 720x360 with 1 Axes>"
            ]
          },
          "metadata": {
            "needs_background": "light"
          }
        }
      ]
    },
    {
      "cell_type": "markdown",
      "metadata": {
        "id": "l9-bdnbRAM7D"
      },
      "source": [
        "*   Mostly trips are done at a speed range of 5-25 kmph.\n"
      ]
    },
    {
      "cell_type": "markdown",
      "metadata": {
        "id": "p2tbyzIXAWXe"
      },
      "source": [
        "### Trips per Hour"
      ]
    },
    {
      "cell_type": "code",
      "metadata": {
        "colab": {
          "base_uri": "https://localhost:8080/",
          "height": 334
        },
        "id": "76ntF1l2AayV",
        "outputId": "1375f6ec-bf9a-4cc4-f504-225ce9ad3f6d"
      },
      "source": [
        "plt.figure(figsize = (10,5))\n",
        "sns.countplot(data.pickup_hour)\n",
        "plt.xlabel('Time of pickup (24hr format)')\n",
        "plt.show()"
      ],
      "execution_count": 51,
      "outputs": [
        {
          "output_type": "display_data",
          "data": {
            "image/png": "[encoded data removed]",
            "text/plain": [
              "<Figure size 720x360 with 1 Axes>"
            ]
          },
          "metadata": {
            "needs_background": "light"
          }
        }
      ]
    },
    {
      "cell_type": "markdown",
      "metadata": {
        "id": "HIQvlNVtAnaN"
      },
      "source": [
        "### Trips per week day"
      ]
    },
    {
      "cell_type": "code",
      "metadata": {
        "colab": {
          "base_uri": "https://localhost:8080/"
        },
        "id": "_gETvoZiBQ7f",
        "outputId": "9b3bb1c9-2d1a-4d07-a62e-dc45c6a178bd"
      },
      "source": [
        "data.pickup_weekday.value_counts()"
      ],
      "execution_count": 52,
      "outputs": [
        {
          "output_type": "execute_result",
          "data": {
            "text/plain": [
              "Saturday     184396\n",
              "Friday       183799\n",
              "Thursday     180067\n",
              "Wednesday    172609\n",
              "Tuesday      166384\n",
              "Sunday       164670\n",
              "Monday       154261\n",
              "Name: pickup_weekday, dtype: int64"
            ]
          },
          "metadata": {},
          "execution_count": 52
        }
      ]
    },
    {
      "cell_type": "code",
      "metadata": {
        "colab": {
          "base_uri": "https://localhost:8080/",
          "height": 334
        },
        "id": "La8Ej1y3AqvM",
        "outputId": "f785f061-ecbb-4812-a01e-9267b47ed32f"
      },
      "source": [
        "plt.figure(figsize = (10,5))\n",
        "sns.countplot(data.pickup_weekday)\n",
        "plt.xlabel('Day of Pickup')\n",
        "plt.ylabel('Pickup counts')\n",
        "plt.show()"
      ],
      "execution_count": 53,
      "outputs": [
        {
          "output_type": "display_data",
          "data": {
            "image/png": "[encoded data removed]",
            "text/plain": [
              "<Figure size 720x360 with 1 Axes>"
            ]
          },
          "metadata": {
            "needs_background": "light"
          }
        }
      ]
    },
    {
      "cell_type": "markdown",
      "metadata": {
        "id": "5QqsGiLrAwHz"
      },
      "source": [
        "### Trips per month"
      ]
    },
    {
      "cell_type": "code",
      "metadata": {
        "colab": {
          "base_uri": "https://localhost:8080/"
        },
        "id": "HuAd_C2FBJ3q",
        "outputId": "69a82df5-2af0-4411-c520-e4f34d9da81f"
      },
      "source": [
        "data.month.value_counts()"
      ],
      "execution_count": 54,
      "outputs": [
        {
          "output_type": "execute_result",
          "data": {
            "text/plain": [
              "3    212276\n",
              "4    208444\n",
              "5    206657\n",
              "6    195063\n",
              "2    194778\n",
              "1    188968\n",
              "Name: month, dtype: int64"
            ]
          },
          "metadata": {},
          "execution_count": 54
        }
      ]
    },
    {
      "cell_type": "code",
      "metadata": {
        "colab": {
          "base_uri": "https://localhost:8080/",
          "height": 334
        },
        "id": "O6_0FmGQAUy1",
        "outputId": "c64dd3bc-e369-4f0d-c41f-2b3160952173"
      },
      "source": [
        "plt.figure(figsize = (10,5))\n",
        "sns.countplot(data.month)\n",
        "plt.ylabel('Trip Count')\n",
        "plt.xlabel('Months (Jan=1 to June=6) ')\n",
        "plt.show()"
      ],
      "execution_count": 55,
      "outputs": [
        {
          "output_type": "display_data",
          "data": {
            "image/png": "[encoded data removed]",
            "text/plain": [
              "<Figure size 720x360 with 1 Axes>"
            ]
          },
          "metadata": {
            "needs_background": "light"
          }
        }
      ]
    },
    {
      "cell_type": "markdown",
      "metadata": {
        "id": "dH5JttJ5G5Yn"
      },
      "source": [
        "## Initial Feature Engineering"
      ]
    },
    {
      "cell_type": "code",
      "metadata": {
        "colab": {
          "base_uri": "https://localhost:8080/"
        },
        "id": "8bU7LOTiDTuE",
        "outputId": "6943c1c3-e7f6-407d-89bf-674503d53579"
      },
      "source": [
        "data.columns"
      ],
      "execution_count": 56,
      "outputs": [
        {
          "output_type": "execute_result",
          "data": {
            "text/plain": [
              "Index(['id', 'vendor_id', 'pickup_datetime', 'dropoff_datetime',\n",
              "       'passenger_count', 'pickup_longitude', 'pickup_latitude',\n",
              "       'dropoff_longitude', 'dropoff_latitude', 'store_and_fwd_flag',\n",
              "       'trip_duration', 'pickup_weekday', 'dropoff_weekday',\n",
              "       'pickup_weekday_num', 'pickup_hour', 'month', 'distance', 'speed',\n",
              "       'pickup_timeofday'],\n",
              "      dtype='object')"
            ]
          },
          "metadata": {},
          "execution_count": 56
        }
      ]
    },
    {
      "cell_type": "code",
      "metadata": {
        "id": "KplX1rrQDpi5"
      },
      "source": [
        "df=data.copy()"
      ],
      "execution_count": 99,
      "outputs": []
    },
    {
      "cell_type": "code",
      "metadata": {
        "id": "fQnKXchIEsR0"
      },
      "source": [
        "df.drop(['id','pickup_longitude', 'pickup_latitude',\n",
        "       'dropoff_longitude', 'dropoff_latitude','pickup_datetime', 'dropoff_datetime'],axis=1,inplace=True)"
      ],
      "execution_count": 100,
      "outputs": []
    },
    {
      "cell_type": "code",
      "metadata": {
        "colab": {
          "base_uri": "https://localhost:8080/"
        },
        "id": "hkyB85peFFIm",
        "outputId": "7e0a6eca-6bc2-4c7a-cbd0-4c8518cac6fa"
      },
      "source": [
        "df.columns"
      ],
      "execution_count": 101,
      "outputs": [
        {
          "output_type": "execute_result",
          "data": {
            "text/plain": [
              "Index(['vendor_id', 'passenger_count', 'store_and_fwd_flag', 'trip_duration',\n",
              "       'pickup_weekday', 'dropoff_weekday', 'pickup_weekday_num',\n",
              "       'pickup_hour', 'month', 'distance', 'speed', 'pickup_timeofday'],\n",
              "      dtype='object')"
            ]
          },
          "metadata": {},
          "execution_count": 101
        }
      ]
    },
    {
      "cell_type": "code",
      "metadata": {
        "colab": {
          "base_uri": "https://localhost:8080/"
        },
        "id": "FZaMGlfVFPCD",
        "outputId": "0c4fed37-58ad-4a8f-a5a7-08e59b046e08"
      },
      "source": [
        "len(df[df.pickup_weekday!=df.dropoff_weekday])/len(df)*100"
      ],
      "execution_count": 102,
      "outputs": [
        {
          "output_type": "execute_result",
          "data": {
            "text/plain": [
              "1.12934489373944"
            ]
          },
          "metadata": {},
          "execution_count": 102
        }
      ]
    },
    {
      "cell_type": "markdown",
      "metadata": {
        "id": "gN3sI7JCGSI0"
      },
      "source": [
        "* Only about 1.12% of pickup_weekday and dropoff_weekday are different which means mostly trip ends in same day itself.\n",
        "* So we can drop dropoff_weekday feature also."
      ]
    },
    {
      "cell_type": "code",
      "metadata": {
        "id": "WoxGI50lG0E-"
      },
      "source": [
        "df.drop('dropoff_weekday',axis=1,inplace=True)"
      ],
      "execution_count": 103,
      "outputs": []
    },
    {
      "cell_type": "markdown",
      "metadata": {
        "id": "Z4dC_IZwHb46"
      },
      "source": [
        "## Bivariate Analysis"
      ]
    },
    {
      "cell_type": "markdown",
      "metadata": {
        "id": "gfOS4ib6HtdX"
      },
      "source": [
        "### Trip Duration Vs Vendor"
      ]
    },
    {
      "cell_type": "code",
      "metadata": {
        "colab": {
          "base_uri": "https://localhost:8080/",
          "height": 334
        },
        "id": "1B-RizA9He6s",
        "outputId": "c59ead74-6800-4f58-bc38-28f3449d54d3"
      },
      "source": [
        "sns.set_style(style='whitegrid')\n",
        "plt.figure(figsize = (7,5))\n",
        "sns.barplot(df.vendor_id,df.trip_duration)\n",
        "plt.xlabel('Vendor ID')\n",
        "plt.ylabel('Trip Duration')\n",
        "plt.show()"
      ],
      "execution_count": 104,
      "outputs": [
        {
          "output_type": "display_data",
          "data": {
            "image/png": "[encoded data removed]",
            "text/plain": [
              "<Figure size 504x360 with 1 Axes>"
            ]
          },
          "metadata": {}
        }
      ]
    },
    {
      "cell_type": "markdown",
      "metadata": {
        "id": "JDkZmYKVJHzI"
      },
      "source": [
        "* Seems like there is not much difference between Vendoe_ID type 1 and Vendor_ID type 2."
      ]
    },
    {
      "cell_type": "markdown",
      "metadata": {
        "id": "f3A9LnBTJjSS"
      },
      "source": [
        "### Trip Duration Vs Store and Forward Flag"
      ]
    },
    {
      "cell_type": "code",
      "metadata": {
        "colab": {
          "base_uri": "https://localhost:8080/",
          "height": 334
        },
        "id": "mydCVnj8JbPd",
        "outputId": "d743da7d-9f36-4a2a-a87d-754c89d8932f"
      },
      "source": [
        "plt.figure(figsize = (10,5))\n",
        "sns.set_style(style='white')\n",
        "sns.barplot(x=df.store_and_fwd_flag, y=df.trip_duration)\n",
        "plt.xlabel('Store and Forward Flag')\n",
        "plt.ylabel('Duration (seconds)')\n",
        "plt.show()"
      ],
      "execution_count": 105,
      "outputs": [
        {
          "output_type": "display_data",
          "data": {
            "image/png": "[encoded data removed]",
            "text/plain": [
              "<Figure size 720x360 with 1 Axes>"
            ]
          },
          "metadata": {}
        }
      ]
    },
    {
      "cell_type": "markdown",
      "metadata": {
        "id": "vDz-5zLwLTgP"
      },
      "source": [
        "* Y type Store and Forward Flag are relatively taking longer trip duration.\n",
        "* Also we found that from univariate analysis only 1% data is having Y type Store and Forward Flag"
      ]
    },
    {
      "cell_type": "markdown",
      "metadata": {
        "id": "PSk4YU7lPJgC"
      },
      "source": [
        "### Trip Duration Vs Pickup Time"
      ]
    },
    {
      "cell_type": "code",
      "metadata": {
        "colab": {
          "base_uri": "https://localhost:8080/",
          "height": 388
        },
        "id": "EsBQoGx7Gjwv",
        "outputId": "1ecaa85a-9865-4e88-f908-5fc558304d71"
      },
      "source": [
        "fig, axes = plt.subplots(1, 2, figsize=(15, 5), sharey=True)\n",
        "fig.suptitle('Trip Duration Vs Pickup Time')\n",
        "\n",
        "sns.barplot(ax=axes[0], x='pickup_hour',y='trip_duration',data=df)\n",
        "axes[0].set_title('Bar graph')\n",
        "\n",
        "sns.lineplot(ax=axes[1], x='pickup_hour',y='trip_duration',data=df)\n",
        "axes[1].set_title('Line Plot')"
      ],
      "execution_count": 106,
      "outputs": [
        {
          "output_type": "execute_result",
          "data": {
            "text/plain": [
              "Text(0.5, 1.0, 'Line Plot')"
            ]
          },
          "metadata": {},
          "execution_count": 106
        },
        {
          "output_type": "display_data",
          "data": {
            "image/png": "[encoded data removed]",
            "text/plain": [
              "<Figure size 1080x360 with 2 Axes>"
            ]
          },
          "metadata": {}
        }
      ]
    },
    {
      "cell_type": "markdown",
      "metadata": {
        "id": "3r16oTw0Y-Qo"
      },
      "source": [
        "*   We see the trip duration is the maximum around 1 pm to 4 pm.\n",
        "*   Trip duration is the lowest in morning aroud 6 am"
      ]
    },
    {
      "cell_type": "markdown",
      "metadata": {
        "id": "ShRGI3IHZjtO"
      },
      "source": [
        "### Trip Duration Vs Weekday"
      ]
    },
    {
      "cell_type": "code",
      "metadata": {
        "colab": {
          "base_uri": "https://localhost:8080/",
          "height": 320
        },
        "id": "Ne27qrXRZnyu",
        "outputId": "095c61a4-06fc-40c4-e7f0-3520685ef3f4"
      },
      "source": [
        "plt.figure(figsize = (10,5))\n",
        "sns.barplot(x='pickup_weekday',y='trip_duration',data=df)\n",
        "plt.ylabel('Duration (seconds)')\n",
        "plt.xlabel('')\n",
        "plt.show()"
      ],
      "execution_count": 107,
      "outputs": [
        {
          "output_type": "display_data",
          "data": {
            "image/png": "[encoded data removed]",
            "text/plain": [
              "<Figure size 720x360 with 1 Axes>"
            ]
          },
          "metadata": {}
        }
      ]
    },
    {
      "cell_type": "markdown",
      "metadata": {
        "id": "np5z-mLpao_L"
      },
      "source": [
        "*   Trip duration on Wednesday is longest among all days."
      ]
    },
    {
      "cell_type": "markdown",
      "metadata": {
        "id": "67nOZIktawX1"
      },
      "source": [
        "### Trip Duration Vs Month"
      ]
    },
    {
      "cell_type": "code",
      "metadata": {
        "colab": {
          "base_uri": "https://localhost:8080/",
          "height": 334
        },
        "id": "l25ZecrFa0Nk",
        "outputId": "113798c1-27ea-436e-d7ef-6f74881d73f8"
      },
      "source": [
        "plt.figure(figsize = (10,5))\n",
        "sns.barplot(x='month',y='trip_duration', data=data)\n",
        "plt.ylabel('Duration (seconds)')\n",
        "plt.xlabel('Month of Trip ')\n",
        "plt.show()"
      ],
      "execution_count": 108,
      "outputs": [
        {
          "output_type": "display_data",
          "data": {
            "image/png": "[encoded data removed]",
            "text/plain": [
              "<Figure size 720x360 with 1 Axes>"
            ]
          },
          "metadata": {}
        }
      ]
    },
    {
      "cell_type": "markdown",
      "metadata": {
        "id": "Q1IC15uAbO2N"
      },
      "source": [
        "* Trip duration gradually increasing from Jan to June"
      ]
    },
    {
      "cell_type": "markdown",
      "metadata": {
        "id": "kyEno_XUbo8Q"
      },
      "source": [
        "### Trip Duration Vs Distance"
      ]
    },
    {
      "cell_type": "code",
      "metadata": {
        "colab": {
          "base_uri": "https://localhost:8080/",
          "height": 387
        },
        "id": "uUAA7S8QbxDC",
        "outputId": "871c8996-3523-49f3-eae9-ed2623cb390b"
      },
      "source": [
        "fig, axes = plt.subplots(1, 2, figsize=(10, 5), sharey=True)\n",
        "fig.suptitle('Trip Duration Vs Distance')\n",
        "\n",
        "sns.barplot(ax=axes[0], x=df.distance.groupby(pd.cut(df.distance, np.arange(0,60,10))).mean().round(),y='trip_duration',data=df,ci=None)\n",
        "axes[0].set_title('Bar graph')\n",
        "\n",
        "sns.regplot(ax=axes[1], x='distance',y='trip_duration',data=df)\n",
        "axes[1].set_title('Scatter plot')"
      ],
      "execution_count": 109,
      "outputs": [
        {
          "output_type": "execute_result",
          "data": {
            "text/plain": [
              "Text(0.5, 1.0, 'Scatter plot')"
            ]
          },
          "metadata": {},
          "execution_count": 109
        },
        {
          "output_type": "display_data",
          "data": {
            "image/png": "[encoded data removed]",
            "text/plain": [
              "<Figure size 720x360 with 2 Axes>"
            ]
          },
          "metadata": {}
        }
      ]
    },
    {
      "cell_type": "markdown",
      "metadata": {
        "id": "Id7O8p1qfjY8"
      },
      "source": [
        "* As the distance increases the trip time also increasing"
      ]
    },
    {
      "cell_type": "markdown",
      "metadata": {
        "id": "ei5Nh9IDiknH"
      },
      "source": [
        "### Distance Vs Hour"
      ]
    },
    {
      "cell_type": "code",
      "metadata": {
        "colab": {
          "base_uri": "https://localhost:8080/",
          "height": 334
        },
        "id": "R6fxX_AYioq2",
        "outputId": "7c69cdcf-9b8a-4e4c-ac82-53261902490d"
      },
      "source": [
        "plt.figure(figsize = (10,5))\n",
        "sns.lineplot(y='distance',x='pickup_hour',data=df)\n",
        "plt.ylabel('Distance')\n",
        "plt.xlabel('Pickup Hour')\n",
        "plt.show()"
      ],
      "execution_count": 110,
      "outputs": [
        {
          "output_type": "display_data",
          "data": {
            "image/png": "[encoded data removed]",
            "text/plain": [
              "<Figure size 720x360 with 1 Axes>"
            ]
          },
          "metadata": {}
        }
      ]
    },
    {
      "cell_type": "markdown",
      "metadata": {
        "id": "OoE8xDEKitDs"
      },
      "source": [
        "*   Trip distance is highest during early morning hours.\n",
        "*   From 8 am to night 8 pm distance people are riding short distance trips in the range of 3 - 4 kms.\n",
        "\n"
      ]
    },
    {
      "cell_type": "markdown",
      "metadata": {
        "id": "OiqD0-m7jjjF"
      },
      "source": [
        "### Distance vs Weekday"
      ]
    },
    {
      "cell_type": "code",
      "metadata": {
        "colab": {
          "base_uri": "https://localhost:8080/",
          "height": 320
        },
        "id": "TTCjvzXEjeir",
        "outputId": "8462d6dc-cfea-47a7-f375-f9bc9fa37dd5"
      },
      "source": [
        "plt.figure(figsize = (10,5))\n",
        "sns.barplot(x='pickup_weekday', y='distance',data=df)\n",
        "plt.ylabel('Distance')\n",
        "plt.xlabel('')\n",
        "plt.show()"
      ],
      "execution_count": 111,
      "outputs": [
        {
          "output_type": "display_data",
          "data": {
            "image/png": "[encoded data removed]",
            "text/plain": [
              "<Figure size 720x360 with 1 Axes>"
            ]
          },
          "metadata": {}
        }
      ]
    },
    {
      "cell_type": "markdown",
      "metadata": {
        "id": "QX7_sICPYL1o"
      },
      "source": [
        "* Sunday being at the top may be due to outstation trips"
      ]
    },
    {
      "cell_type": "markdown",
      "metadata": {
        "id": "buPHJGfxYcTd"
      },
      "source": [
        "### Distance Vs Month"
      ]
    },
    {
      "cell_type": "code",
      "metadata": {
        "colab": {
          "base_uri": "https://localhost:8080/",
          "height": 334
        },
        "id": "A4N75I2hYaNT",
        "outputId": "4293ae9c-10f6-4afa-b6e6-b01a1b6c0494"
      },
      "source": [
        "plt.figure(figsize = (10,5))\n",
        "sns.barplot(x='month', y='distance',data=df)\n",
        "plt.ylabel('Distance')\n",
        "plt.xlabel('Month of trip')\n",
        "plt.show()"
      ],
      "execution_count": 112,
      "outputs": [
        {
          "output_type": "display_data",
          "data": {
            "image/png": "[encoded data removed]",
            "text/plain": [
              "<Figure size 720x360 with 1 Axes>"
            ]
          },
          "metadata": {}
        }
      ]
    },
    {
      "cell_type": "markdown",
      "metadata": {
        "id": "rtiFrFwAYurL"
      },
      "source": [
        "* There is not much differece in distance travelled in each month"
      ]
    },
    {
      "cell_type": "code",
      "metadata": {
        "id": "J1zf--y7g6ZV",
        "colab": {
          "base_uri": "https://localhost:8080/"
        },
        "outputId": "dfd155e2-ee21-490b-ee4b-791a75c0fe3c"
      },
      "source": [
        "df.info()"
      ],
      "execution_count": 113,
      "outputs": [
        {
          "output_type": "stream",
          "name": "stdout",
          "text": [
            "<class 'pandas.core.frame.DataFrame'>\n",
            "Int64Index: 1206186 entries, 0 to 1458643\n",
            "Data columns (total 11 columns):\n",
            " #   Column              Non-Null Count    Dtype  \n",
            "---  ------              --------------    -----  \n",
            " 0   vendor_id           1206186 non-null  int64  \n",
            " 1   passenger_count     1206186 non-null  int64  \n",
            " 2   store_and_fwd_flag  1206186 non-null  object \n",
            " 3   trip_duration       1206186 non-null  int64  \n",
            " 4   pickup_weekday      1206186 non-null  object \n",
            " 5   pickup_weekday_num  1206186 non-null  int64  \n",
            " 6   pickup_hour         1206186 non-null  int64  \n",
            " 7   month               1206186 non-null  int64  \n",
            " 8   distance            1206186 non-null  float64\n",
            " 9   speed               1206186 non-null  float64\n",
            " 10  pickup_timeofday    1206186 non-null  object \n",
            "dtypes: float64(2), int64(6), object(3)\n",
            "memory usage: 150.4+ MB\n"
          ]
        }
      ]
    },
    {
      "cell_type": "markdown",
      "metadata": {
        "id": "1UXfcoWnZJF8"
      },
      "source": [
        "## Correlation Analysis\n"
      ]
    },
    {
      "cell_type": "code",
      "metadata": {
        "id": "K-4XZiRCfrhz",
        "colab": {
          "base_uri": "https://localhost:8080/",
          "height": 613
        },
        "outputId": "493b8d58-a407-4065-a3ea-bb466f8f1f30"
      },
      "source": [
        "plt.figure (figsize= (20,10))\n",
        "corelation= df.corr()\n",
        "sns.heatmap(abs(corelation), annot=True, cmap='coolwarm')"
      ],
      "execution_count": 114,
      "outputs": [
        {
          "output_type": "execute_result",
          "data": {
            "text/plain": [
              "<matplotlib.axes._subplots.AxesSubplot at 0x7fdb71e22350>"
            ]
          },
          "metadata": {},
          "execution_count": 114
        },
        {
          "output_type": "display_data",
          "data": {
            "image/png": "[encoded data removed]",
            "text/plain": [
              "<Figure size 1440x720 with 2 Axes>"
            ]
          },
          "metadata": {}
        }
      ]
    },
    {
      "cell_type": "markdown",
      "metadata": {
        "id": "jbIsAo7paR1T"
      },
      "source": [
        "* Trip Duration is least correlated with the Vendor ID so we can drop that aswell\n",
        "* Trip Duration and distance are highly correlated as expected"
      ]
    },
    {
      "cell_type": "code",
      "metadata": {
        "id": "cbq8-4u4bZQx"
      },
      "source": [
        "df.drop('vendor_id',axis=1,inplace=True)"
      ],
      "execution_count": 115,
      "outputs": []
    },
    {
      "cell_type": "code",
      "metadata": {
        "id": "ND0XvmMZZcvg",
        "colab": {
          "base_uri": "https://localhost:8080/"
        },
        "outputId": "49d5a36a-6941-4dfb-c403-19d2466ec0aa"
      },
      "source": [
        "df.info()"
      ],
      "execution_count": 116,
      "outputs": [
        {
          "output_type": "stream",
          "name": "stdout",
          "text": [
            "<class 'pandas.core.frame.DataFrame'>\n",
            "Int64Index: 1206186 entries, 0 to 1458643\n",
            "Data columns (total 10 columns):\n",
            " #   Column              Non-Null Count    Dtype  \n",
            "---  ------              --------------    -----  \n",
            " 0   passenger_count     1206186 non-null  int64  \n",
            " 1   store_and_fwd_flag  1206186 non-null  object \n",
            " 2   trip_duration       1206186 non-null  int64  \n",
            " 3   pickup_weekday      1206186 non-null  object \n",
            " 4   pickup_weekday_num  1206186 non-null  int64  \n",
            " 5   pickup_hour         1206186 non-null  int64  \n",
            " 6   month               1206186 non-null  int64  \n",
            " 7   distance            1206186 non-null  float64\n",
            " 8   speed               1206186 non-null  float64\n",
            " 9   pickup_timeofday    1206186 non-null  object \n",
            "dtypes: float64(2), int64(5), object(3)\n",
            "memory usage: 141.2+ MB\n"
          ]
        }
      ]
    },
    {
      "cell_type": "markdown",
      "metadata": {
        "id": "U_ysEQPfb5e6"
      },
      "source": [
        "### Feature Engineering"
      ]
    },
    {
      "cell_type": "markdown",
      "metadata": {
        "id": "dH-PThtLcC1F"
      },
      "source": [
        "Lets Onehot Encode the categorical columns"
      ]
    },
    {
      "cell_type": "code",
      "metadata": {
        "id": "tzcJm2eIcI8_"
      },
      "source": [
        "encodings = pd.get_dummies(df.store_and_fwd_flag, prefix='store_and_fwd_flag')\n",
        "df = pd.concat([df,encodings], axis = 1)"
      ],
      "execution_count": 117,
      "outputs": []
    },
    {
      "cell_type": "code",
      "metadata": {
        "id": "_R1AVsB1ZX1A"
      },
      "source": [
        "dummies = pd.get_dummies(df.pickup_weekday, prefix='pickup_weekday', drop_first=True)\n",
        "df = pd.concat([df,dummies], axis = 1,)"
      ],
      "execution_count": 118,
      "outputs": []
    },
    {
      "cell_type": "code",
      "metadata": {
        "id": "2BjTBDAEdf-w"
      },
      "source": [
        "time_encodes = pd.get_dummies(df.pickup_timeofday, prefix='pickup_timeofday', drop_first=True)\n",
        "df = pd.concat([df,time_encodes], axis = 1,)"
      ],
      "execution_count": 119,
      "outputs": []
    },
    {
      "cell_type": "markdown",
      "metadata": {
        "id": "UZOh4w-QdBNs"
      },
      "source": [
        "Now lets drop those categorical features and pickup_weekday_num"
      ]
    },
    {
      "cell_type": "code",
      "metadata": {
        "id": "WxoQPvuTdNsZ"
      },
      "source": [
        "df.drop(['store_and_fwd_flag','pickup_weekday','pickup_timeofday','pickup_weekday_num'],axis=1,inplace=True)"
      ],
      "execution_count": 120,
      "outputs": []
    },
    {
      "cell_type": "code",
      "metadata": {
        "id": "rMLxIVHeZCdh",
        "colab": {
          "base_uri": "https://localhost:8080/",
          "height": 244
        },
        "outputId": "8f2fd1d8-424f-4fd7-d7f0-6c31fbf0c797"
      },
      "source": [
        "df.head()"
      ],
      "execution_count": 121,
      "outputs": [
        {
          "output_type": "execute_result",
          "data": {
            "text/html": [
              "<div>\n",
              "<style scoped>\n",
              "    .dataframe tbody tr th:only-of-type {\n",
              "        vertical-align: middle;\n",
              "    }\n",
              "\n",
              "    .dataframe tbody tr th {\n",
              "        vertical-align: top;\n",
              "    }\n",
              "\n",
              "    .dataframe thead th {\n",
              "        text-align: right;\n",
              "    }\n",
              "</style>\n",
              "<table border=\"1\" class=\"dataframe\">\n",
              "  <thead>\n",
              "    <tr style=\"text-align: right;\">\n",
              "      <th></th>\n",
              "      <th>passenger_count</th>\n",
              "      <th>trip_duration</th>\n",
              "      <th>pickup_hour</th>\n",
              "      <th>month</th>\n",
              "      <th>distance</th>\n",
              "      <th>speed</th>\n",
              "      <th>store_and_fwd_flag_N</th>\n",
              "      <th>store_and_fwd_flag_Y</th>\n",
              "      <th>pickup_weekday_Monday</th>\n",
              "      <th>pickup_weekday_Saturday</th>\n",
              "      <th>pickup_weekday_Sunday</th>\n",
              "      <th>pickup_weekday_Thursday</th>\n",
              "      <th>pickup_weekday_Tuesday</th>\n",
              "      <th>pickup_weekday_Wednesday</th>\n",
              "      <th>pickup_timeofday_Evening</th>\n",
              "      <th>pickup_timeofday_Late night</th>\n",
              "      <th>pickup_timeofday_Morning</th>\n",
              "    </tr>\n",
              "  </thead>\n",
              "  <tbody>\n",
              "    <tr>\n",
              "      <th>0</th>\n",
              "      <td>1</td>\n",
              "      <td>455</td>\n",
              "      <td>17</td>\n",
              "      <td>3</td>\n",
              "      <td>1.498523</td>\n",
              "      <td>11.856445</td>\n",
              "      <td>1</td>\n",
              "      <td>0</td>\n",
              "      <td>1</td>\n",
              "      <td>0</td>\n",
              "      <td>0</td>\n",
              "      <td>0</td>\n",
              "      <td>0</td>\n",
              "      <td>0</td>\n",
              "      <td>1</td>\n",
              "      <td>0</td>\n",
              "      <td>0</td>\n",
              "    </tr>\n",
              "    <tr>\n",
              "      <th>1</th>\n",
              "      <td>1</td>\n",
              "      <td>663</td>\n",
              "      <td>0</td>\n",
              "      <td>6</td>\n",
              "      <td>1.805510</td>\n",
              "      <td>9.803673</td>\n",
              "      <td>1</td>\n",
              "      <td>0</td>\n",
              "      <td>0</td>\n",
              "      <td>0</td>\n",
              "      <td>1</td>\n",
              "      <td>0</td>\n",
              "      <td>0</td>\n",
              "      <td>0</td>\n",
              "      <td>0</td>\n",
              "      <td>1</td>\n",
              "      <td>0</td>\n",
              "    </tr>\n",
              "    <tr>\n",
              "      <th>2</th>\n",
              "      <td>1</td>\n",
              "      <td>2124</td>\n",
              "      <td>11</td>\n",
              "      <td>1</td>\n",
              "      <td>6.385108</td>\n",
              "      <td>10.822216</td>\n",
              "      <td>1</td>\n",
              "      <td>0</td>\n",
              "      <td>0</td>\n",
              "      <td>0</td>\n",
              "      <td>0</td>\n",
              "      <td>0</td>\n",
              "      <td>1</td>\n",
              "      <td>0</td>\n",
              "      <td>0</td>\n",
              "      <td>0</td>\n",
              "      <td>1</td>\n",
              "    </tr>\n",
              "    <tr>\n",
              "      <th>3</th>\n",
              "      <td>1</td>\n",
              "      <td>429</td>\n",
              "      <td>19</td>\n",
              "      <td>4</td>\n",
              "      <td>1.485501</td>\n",
              "      <td>12.465739</td>\n",
              "      <td>1</td>\n",
              "      <td>0</td>\n",
              "      <td>0</td>\n",
              "      <td>0</td>\n",
              "      <td>0</td>\n",
              "      <td>0</td>\n",
              "      <td>0</td>\n",
              "      <td>1</td>\n",
              "      <td>1</td>\n",
              "      <td>0</td>\n",
              "      <td>0</td>\n",
              "    </tr>\n",
              "    <tr>\n",
              "      <th>4</th>\n",
              "      <td>1</td>\n",
              "      <td>435</td>\n",
              "      <td>13</td>\n",
              "      <td>3</td>\n",
              "      <td>1.188590</td>\n",
              "      <td>9.836608</td>\n",
              "      <td>1</td>\n",
              "      <td>0</td>\n",
              "      <td>0</td>\n",
              "      <td>1</td>\n",
              "      <td>0</td>\n",
              "      <td>0</td>\n",
              "      <td>0</td>\n",
              "      <td>0</td>\n",
              "      <td>0</td>\n",
              "      <td>0</td>\n",
              "      <td>0</td>\n",
              "    </tr>\n",
              "  </tbody>\n",
              "</table>\n",
              "</div>"
            ],
            "text/plain": [
              "   passenger_count  ...  pickup_timeofday_Morning\n",
              "0                1  ...                         0\n",
              "1                1  ...                         0\n",
              "2                1  ...                         1\n",
              "3                1  ...                         0\n",
              "4                1  ...                         0\n",
              "\n",
              "[5 rows x 17 columns]"
            ]
          },
          "metadata": {},
          "execution_count": 121
        }
      ]
    },
    {
      "cell_type": "markdown",
      "metadata": {
        "id": "A1Y0V86-eZNW"
      },
      "source": [
        "### Correlation Analysis for all Numerical Data"
      ]
    },
    {
      "cell_type": "code",
      "metadata": {
        "id": "BxV96PnrGRMz",
        "colab": {
          "base_uri": "https://localhost:8080/",
          "height": 748
        },
        "outputId": "f92cf86e-b677-40fb-90f9-ce018b330d37"
      },
      "source": [
        "plt.figure (figsize= (20,10))\n",
        "corelation= df.corr()\n",
        "sns.heatmap(abs(corelation), annot=True, cmap='coolwarm')"
      ],
      "execution_count": 122,
      "outputs": [
        {
          "output_type": "execute_result",
          "data": {
            "text/plain": [
              "<matplotlib.axes._subplots.AxesSubplot at 0x7fdb71ff2e90>"
            ]
          },
          "metadata": {},
          "execution_count": 122
        },
        {
          "output_type": "display_data",
          "data": {
            "image/png": "[encoded data removed]",
            "text/plain": [
              "<Figure size 1440x720 with 2 Axes>"
            ]
          },
          "metadata": {}
        }
      ]
    },
    {
      "cell_type": "markdown",
      "metadata": {
        "id": "wOsx_pqUetZU"
      },
      "source": [
        "* Wooo store_and_fwd_flag_N is 100% correlated with store_and_fwd_flag_Y so we can drop any one of those as well"
      ]
    },
    {
      "cell_type": "code",
      "metadata": {
        "id": "xDI0jTY2fHew"
      },
      "source": [
        "df.drop('store_and_fwd_flag_Y',axis=1,inplace=True)"
      ],
      "execution_count": 123,
      "outputs": []
    },
    {
      "cell_type": "markdown",
      "metadata": {
        "id": "nd6MaQqVf5QQ"
      },
      "source": [
        "Now we have total 16 features and 1458643 records"
      ]
    },
    {
      "cell_type": "code",
      "metadata": {
        "colab": {
          "base_uri": "https://localhost:8080/"
        },
        "id": "DJgAxIBCh1wU",
        "outputId": "fd585164-91a0-422d-f577-a13999cf0d4d"
      },
      "source": [
        "df.passenger_count.value_counts(normalize=True)*100"
      ],
      "execution_count": 124,
      "outputs": [
        {
          "output_type": "execute_result",
          "data": {
            "text/plain": [
              "1    70.625260\n",
              "2    14.591365\n",
              "5     5.368658\n",
              "3     4.154334\n",
              "6     3.297750\n",
              "4     1.962633\n",
              "Name: passenger_count, dtype: float64"
            ]
          },
          "metadata": {},
          "execution_count": 124
        }
      ]
    },
    {
      "cell_type": "code",
      "metadata": {
        "id": "wmrfdm_eNfaq"
      },
      "source": [
        "df.drop('speed',axis=1,inplace=True)"
      ],
      "execution_count": 125,
      "outputs": []
    },
    {
      "cell_type": "code",
      "metadata": {
        "colab": {
          "base_uri": "https://localhost:8080/"
        },
        "id": "nL9DYYz3QZhW",
        "outputId": "052fa05b-7193-4123-bb5e-ad924e563696"
      },
      "source": [
        "df.info()"
      ],
      "execution_count": 126,
      "outputs": [
        {
          "output_type": "stream",
          "name": "stdout",
          "text": [
            "<class 'pandas.core.frame.DataFrame'>\n",
            "Int64Index: 1206186 entries, 0 to 1458643\n",
            "Data columns (total 15 columns):\n",
            " #   Column                       Non-Null Count    Dtype  \n",
            "---  ------                       --------------    -----  \n",
            " 0   passenger_count              1206186 non-null  int64  \n",
            " 1   trip_duration                1206186 non-null  int64  \n",
            " 2   pickup_hour                  1206186 non-null  int64  \n",
            " 3   month                        1206186 non-null  int64  \n",
            " 4   distance                     1206186 non-null  float64\n",
            " 5   store_and_fwd_flag_N         1206186 non-null  uint8  \n",
            " 6   pickup_weekday_Monday        1206186 non-null  uint8  \n",
            " 7   pickup_weekday_Saturday      1206186 non-null  uint8  \n",
            " 8   pickup_weekday_Sunday        1206186 non-null  uint8  \n",
            " 9   pickup_weekday_Thursday      1206186 non-null  uint8  \n",
            " 10  pickup_weekday_Tuesday       1206186 non-null  uint8  \n",
            " 11  pickup_weekday_Wednesday     1206186 non-null  uint8  \n",
            " 12  pickup_timeofday_Evening     1206186 non-null  uint8  \n",
            " 13  pickup_timeofday_Late night  1206186 non-null  uint8  \n",
            " 14  pickup_timeofday_Morning     1206186 non-null  uint8  \n",
            "dtypes: float64(1), int64(4), uint8(10)\n",
            "memory usage: 106.7 MB\n"
          ]
        }
      ]
    },
    {
      "cell_type": "code",
      "metadata": {
        "id": "BcIevm79NgBT"
      },
      "source": [
        "pass_counts_encodes = pd.get_dummies(df.passenger_count, prefix='passenger_count', drop_first=True)\n",
        "df = pd.concat([df,pass_counts_encodes], axis = 1,)"
      ],
      "execution_count": 127,
      "outputs": []
    },
    {
      "cell_type": "code",
      "metadata": {
        "id": "0tfFWqZNNwzK"
      },
      "source": [
        "df.drop('passenger_count',axis=1,inplace=True)"
      ],
      "execution_count": 128,
      "outputs": []
    },
    {
      "cell_type": "code",
      "metadata": {
        "colab": {
          "base_uri": "https://localhost:8080/"
        },
        "id": "OTvbWgDrOK1K",
        "outputId": "c2094809-dd69-4e27-b120-ecf7201d54c0"
      },
      "source": [
        "df.info()"
      ],
      "execution_count": 129,
      "outputs": [
        {
          "output_type": "stream",
          "name": "stdout",
          "text": [
            "<class 'pandas.core.frame.DataFrame'>\n",
            "Int64Index: 1206186 entries, 0 to 1458643\n",
            "Data columns (total 19 columns):\n",
            " #   Column                       Non-Null Count    Dtype  \n",
            "---  ------                       --------------    -----  \n",
            " 0   trip_duration                1206186 non-null  int64  \n",
            " 1   pickup_hour                  1206186 non-null  int64  \n",
            " 2   month                        1206186 non-null  int64  \n",
            " 3   distance                     1206186 non-null  float64\n",
            " 4   store_and_fwd_flag_N         1206186 non-null  uint8  \n",
            " 5   pickup_weekday_Monday        1206186 non-null  uint8  \n",
            " 6   pickup_weekday_Saturday      1206186 non-null  uint8  \n",
            " 7   pickup_weekday_Sunday        1206186 non-null  uint8  \n",
            " 8   pickup_weekday_Thursday      1206186 non-null  uint8  \n",
            " 9   pickup_weekday_Tuesday       1206186 non-null  uint8  \n",
            " 10  pickup_weekday_Wednesday     1206186 non-null  uint8  \n",
            " 11  pickup_timeofday_Evening     1206186 non-null  uint8  \n",
            " 12  pickup_timeofday_Late night  1206186 non-null  uint8  \n",
            " 13  pickup_timeofday_Morning     1206186 non-null  uint8  \n",
            " 14  passenger_count_2            1206186 non-null  uint8  \n",
            " 15  passenger_count_3            1206186 non-null  uint8  \n",
            " 16  passenger_count_4            1206186 non-null  uint8  \n",
            " 17  passenger_count_5            1206186 non-null  uint8  \n",
            " 18  passenger_count_6            1206186 non-null  uint8  \n",
            "dtypes: float64(1), int64(3), uint8(15)\n",
            "memory usage: 103.3 MB\n"
          ]
        }
      ]
    },
    {
      "cell_type": "markdown",
      "metadata": {
        "id": "Pz8DI7IFOW3D"
      },
      "source": [
        "## Build Model"
      ]
    },
    {
      "cell_type": "code",
      "metadata": {
        "id": "vU52Ro6LOZu9"
      },
      "source": [
        "#importing the libraries\n",
        "from sklearn.preprocessing import MinMaxScaler\n",
        "from sklearn.model_selection import train_test_split\n",
        "from sklearn.linear_model import LinearRegression\n",
        "from sklearn.metrics import r2_score\n",
        "from sklearn.metrics import mean_squared_error\n",
        "from sklearn.model_selection import train_test_split "
      ],
      "execution_count": 130,
      "outputs": []
    },
    {
      "cell_type": "code",
      "metadata": {
        "colab": {
          "base_uri": "https://localhost:8080/"
        },
        "id": "Nf9rc3AGOgny",
        "outputId": "25153f1a-6755-4776-977a-20feeb888f2e"
      },
      "source": [
        "y = df['trip_duration']\n",
        "y.head()"
      ],
      "execution_count": 131,
      "outputs": [
        {
          "output_type": "execute_result",
          "data": {
            "text/plain": [
              "0     455\n",
              "1     663\n",
              "2    2124\n",
              "3     429\n",
              "4     435\n",
              "Name: trip_duration, dtype: int64"
            ]
          },
          "metadata": {},
          "execution_count": 131
        }
      ]
    },
    {
      "cell_type": "code",
      "metadata": {
        "colab": {
          "base_uri": "https://localhost:8080/",
          "height": 244
        },
        "id": "4UBJCHRMQzXn",
        "outputId": "3ea5d34f-7e19-49be-d48c-c112b1396f03"
      },
      "source": [
        "X=df.drop('trip_duration',axis=1)\n",
        "X.head()"
      ],
      "execution_count": 132,
      "outputs": [
        {
          "output_type": "execute_result",
          "data": {
            "text/html": [
              "<div>\n",
              "<style scoped>\n",
              "    .dataframe tbody tr th:only-of-type {\n",
              "        vertical-align: middle;\n",
              "    }\n",
              "\n",
              "    .dataframe tbody tr th {\n",
              "        vertical-align: top;\n",
              "    }\n",
              "\n",
              "    .dataframe thead th {\n",
              "        text-align: right;\n",
              "    }\n",
              "</style>\n",
              "<table border=\"1\" class=\"dataframe\">\n",
              "  <thead>\n",
              "    <tr style=\"text-align: right;\">\n",
              "      <th></th>\n",
              "      <th>pickup_hour</th>\n",
              "      <th>month</th>\n",
              "      <th>distance</th>\n",
              "      <th>store_and_fwd_flag_N</th>\n",
              "      <th>pickup_weekday_Monday</th>\n",
              "      <th>pickup_weekday_Saturday</th>\n",
              "      <th>pickup_weekday_Sunday</th>\n",
              "      <th>pickup_weekday_Thursday</th>\n",
              "      <th>pickup_weekday_Tuesday</th>\n",
              "      <th>pickup_weekday_Wednesday</th>\n",
              "      <th>pickup_timeofday_Evening</th>\n",
              "      <th>pickup_timeofday_Late night</th>\n",
              "      <th>pickup_timeofday_Morning</th>\n",
              "      <th>passenger_count_2</th>\n",
              "      <th>passenger_count_3</th>\n",
              "      <th>passenger_count_4</th>\n",
              "      <th>passenger_count_5</th>\n",
              "      <th>passenger_count_6</th>\n",
              "    </tr>\n",
              "  </thead>\n",
              "  <tbody>\n",
              "    <tr>\n",
              "      <th>0</th>\n",
              "      <td>17</td>\n",
              "      <td>3</td>\n",
              "      <td>1.498523</td>\n",
              "      <td>1</td>\n",
              "      <td>1</td>\n",
              "      <td>0</td>\n",
              "      <td>0</td>\n",
              "      <td>0</td>\n",
              "      <td>0</td>\n",
              "      <td>0</td>\n",
              "      <td>1</td>\n",
              "      <td>0</td>\n",
              "      <td>0</td>\n",
              "      <td>0</td>\n",
              "      <td>0</td>\n",
              "      <td>0</td>\n",
              "      <td>0</td>\n",
              "      <td>0</td>\n",
              "    </tr>\n",
              "    <tr>\n",
              "      <th>1</th>\n",
              "      <td>0</td>\n",
              "      <td>6</td>\n",
              "      <td>1.805510</td>\n",
              "      <td>1</td>\n",
              "      <td>0</td>\n",
              "      <td>0</td>\n",
              "      <td>1</td>\n",
              "      <td>0</td>\n",
              "      <td>0</td>\n",
              "      <td>0</td>\n",
              "      <td>0</td>\n",
              "      <td>1</td>\n",
              "      <td>0</td>\n",
              "      <td>0</td>\n",
              "      <td>0</td>\n",
              "      <td>0</td>\n",
              "      <td>0</td>\n",
              "      <td>0</td>\n",
              "    </tr>\n",
              "    <tr>\n",
              "      <th>2</th>\n",
              "      <td>11</td>\n",
              "      <td>1</td>\n",
              "      <td>6.385108</td>\n",
              "      <td>1</td>\n",
              "      <td>0</td>\n",
              "      <td>0</td>\n",
              "      <td>0</td>\n",
              "      <td>0</td>\n",
              "      <td>1</td>\n",
              "      <td>0</td>\n",
              "      <td>0</td>\n",
              "      <td>0</td>\n",
              "      <td>1</td>\n",
              "      <td>0</td>\n",
              "      <td>0</td>\n",
              "      <td>0</td>\n",
              "      <td>0</td>\n",
              "      <td>0</td>\n",
              "    </tr>\n",
              "    <tr>\n",
              "      <th>3</th>\n",
              "      <td>19</td>\n",
              "      <td>4</td>\n",
              "      <td>1.485501</td>\n",
              "      <td>1</td>\n",
              "      <td>0</td>\n",
              "      <td>0</td>\n",
              "      <td>0</td>\n",
              "      <td>0</td>\n",
              "      <td>0</td>\n",
              "      <td>1</td>\n",
              "      <td>1</td>\n",
              "      <td>0</td>\n",
              "      <td>0</td>\n",
              "      <td>0</td>\n",
              "      <td>0</td>\n",
              "      <td>0</td>\n",
              "      <td>0</td>\n",
              "      <td>0</td>\n",
              "    </tr>\n",
              "    <tr>\n",
              "      <th>4</th>\n",
              "      <td>13</td>\n",
              "      <td>3</td>\n",
              "      <td>1.188590</td>\n",
              "      <td>1</td>\n",
              "      <td>0</td>\n",
              "      <td>1</td>\n",
              "      <td>0</td>\n",
              "      <td>0</td>\n",
              "      <td>0</td>\n",
              "      <td>0</td>\n",
              "      <td>0</td>\n",
              "      <td>0</td>\n",
              "      <td>0</td>\n",
              "      <td>0</td>\n",
              "      <td>0</td>\n",
              "      <td>0</td>\n",
              "      <td>0</td>\n",
              "      <td>0</td>\n",
              "    </tr>\n",
              "  </tbody>\n",
              "</table>\n",
              "</div>"
            ],
            "text/plain": [
              "   pickup_hour  month  ...  passenger_count_5  passenger_count_6\n",
              "0           17      3  ...                  0                  0\n",
              "1            0      6  ...                  0                  0\n",
              "2           11      1  ...                  0                  0\n",
              "3           19      4  ...                  0                  0\n",
              "4           13      3  ...                  0                  0\n",
              "\n",
              "[5 rows x 18 columns]"
            ]
          },
          "metadata": {},
          "execution_count": 132
        }
      ]
    },
    {
      "cell_type": "code",
      "metadata": {
        "colab": {
          "base_uri": "https://localhost:8080/"
        },
        "id": "kjO9lJAfQ-eC",
        "outputId": "8b100213-4ead-4600-f187-dd2723cb435e"
      },
      "source": [
        "X.info()"
      ],
      "execution_count": 133,
      "outputs": [
        {
          "output_type": "stream",
          "name": "stdout",
          "text": [
            "<class 'pandas.core.frame.DataFrame'>\n",
            "Int64Index: 1206186 entries, 0 to 1458643\n",
            "Data columns (total 18 columns):\n",
            " #   Column                       Non-Null Count    Dtype  \n",
            "---  ------                       --------------    -----  \n",
            " 0   pickup_hour                  1206186 non-null  int64  \n",
            " 1   month                        1206186 non-null  int64  \n",
            " 2   distance                     1206186 non-null  float64\n",
            " 3   store_and_fwd_flag_N         1206186 non-null  uint8  \n",
            " 4   pickup_weekday_Monday        1206186 non-null  uint8  \n",
            " 5   pickup_weekday_Saturday      1206186 non-null  uint8  \n",
            " 6   pickup_weekday_Sunday        1206186 non-null  uint8  \n",
            " 7   pickup_weekday_Thursday      1206186 non-null  uint8  \n",
            " 8   pickup_weekday_Tuesday       1206186 non-null  uint8  \n",
            " 9   pickup_weekday_Wednesday     1206186 non-null  uint8  \n",
            " 10  pickup_timeofday_Evening     1206186 non-null  uint8  \n",
            " 11  pickup_timeofday_Late night  1206186 non-null  uint8  \n",
            " 12  pickup_timeofday_Morning     1206186 non-null  uint8  \n",
            " 13  passenger_count_2            1206186 non-null  uint8  \n",
            " 14  passenger_count_3            1206186 non-null  uint8  \n",
            " 15  passenger_count_4            1206186 non-null  uint8  \n",
            " 16  passenger_count_5            1206186 non-null  uint8  \n",
            " 17  passenger_count_6            1206186 non-null  uint8  \n",
            "dtypes: float64(1), int64(2), uint8(15)\n",
            "memory usage: 94.1 MB\n"
          ]
        }
      ]
    },
    {
      "cell_type": "code",
      "metadata": {
        "colab": {
          "base_uri": "https://localhost:8080/"
        },
        "id": "uHm3NTG3RFlR",
        "outputId": "1f1fe53b-0ef4-4e41-e442-d83ce1504c80"
      },
      "source": [
        "#split train and test data\n",
        "X_train, X_test, y_train, y_test = train_test_split( X,y , test_size = 0.2, random_state = 42) \n",
        "print(X_train.shape)\n",
        "print(X_test.shape)"
      ],
      "execution_count": 134,
      "outputs": [
        {
          "output_type": "stream",
          "name": "stdout",
          "text": [
            "(964948, 18)\n",
            "(241238, 18)\n"
          ]
        }
      ]
    },
    {
      "cell_type": "code",
      "metadata": {
        "id": "Q1EwdMIdRF6A"
      },
      "source": [
        "# Transforming data\n",
        "scaler = MinMaxScaler()\n",
        "X_train = scaler.fit_transform(X_train)\n",
        "X_test = scaler.transform(X_test)"
      ],
      "execution_count": 135,
      "outputs": []
    },
    {
      "cell_type": "markdown",
      "metadata": {
        "id": "n2RArgMARQbx"
      },
      "source": [
        "### Linear Regression"
      ]
    },
    {
      "cell_type": "code",
      "metadata": {
        "colab": {
          "base_uri": "https://localhost:8080/"
        },
        "id": "j39Dy4VKRP3k",
        "outputId": "e700d0f7-9163-4a73-e274-21c9710bef04"
      },
      "source": [
        "from sklearn.linear_model import LinearRegression\n",
        "linear_regression = LinearRegression().fit(X_train,y_train)\n",
        "linear_regression.score(X_train,y_train)"
      ],
      "execution_count": 136,
      "outputs": [
        {
          "output_type": "execute_result",
          "data": {
            "text/plain": [
              "0.6127705949934277"
            ]
          },
          "metadata": {},
          "execution_count": 136
        }
      ]
    },
    {
      "cell_type": "code",
      "metadata": {
        "id": "Wlz1jq91Ritf"
      },
      "source": [
        "y_pred_train =linear_regression.predict(X_train)"
      ],
      "execution_count": 137,
      "outputs": []
    },
    {
      "cell_type": "code",
      "metadata": {
        "id": "Gejtnov2Rlkl"
      },
      "source": [
        "y_pred = linear_regression.predict(X_test)"
      ],
      "execution_count": 138,
      "outputs": []
    },
    {
      "cell_type": "code",
      "metadata": {
        "colab": {
          "base_uri": "https://localhost:8080/",
          "height": 206
        },
        "id": "nmCGTPtDRo-P",
        "outputId": "c2a3cb6e-12fb-48e3-cabb-83e2fe393aac"
      },
      "source": [
        "d = pd.DataFrame({\"actual\":y_test,\"predicted\":y_pred})\n",
        "d.head()"
      ],
      "execution_count": 139,
      "outputs": [
        {
          "output_type": "execute_result",
          "data": {
            "text/html": [
              "<div>\n",
              "<style scoped>\n",
              "    .dataframe tbody tr th:only-of-type {\n",
              "        vertical-align: middle;\n",
              "    }\n",
              "\n",
              "    .dataframe tbody tr th {\n",
              "        vertical-align: top;\n",
              "    }\n",
              "\n",
              "    .dataframe thead th {\n",
              "        text-align: right;\n",
              "    }\n",
              "</style>\n",
              "<table border=\"1\" class=\"dataframe\">\n",
              "  <thead>\n",
              "    <tr style=\"text-align: right;\">\n",
              "      <th></th>\n",
              "      <th>actual</th>\n",
              "      <th>predicted</th>\n",
              "    </tr>\n",
              "  </thead>\n",
              "  <tbody>\n",
              "    <tr>\n",
              "      <th>693175</th>\n",
              "      <td>1946</td>\n",
              "      <td>994.607820</td>\n",
              "    </tr>\n",
              "    <tr>\n",
              "      <th>1426631</th>\n",
              "      <td>767</td>\n",
              "      <td>789.037111</td>\n",
              "    </tr>\n",
              "    <tr>\n",
              "      <th>385971</th>\n",
              "      <td>507</td>\n",
              "      <td>719.576569</td>\n",
              "    </tr>\n",
              "    <tr>\n",
              "      <th>1273132</th>\n",
              "      <td>1480</td>\n",
              "      <td>975.574841</td>\n",
              "    </tr>\n",
              "    <tr>\n",
              "      <th>21094</th>\n",
              "      <td>406</td>\n",
              "      <td>691.407842</td>\n",
              "    </tr>\n",
              "  </tbody>\n",
              "</table>\n",
              "</div>"
            ],
            "text/plain": [
              "         actual   predicted\n",
              "693175     1946  994.607820\n",
              "1426631     767  789.037111\n",
              "385971      507  719.576569\n",
              "1273132    1480  975.574841\n",
              "21094       406  691.407842"
            ]
          },
          "metadata": {},
          "execution_count": 139
        }
      ]
    },
    {
      "cell_type": "code",
      "metadata": {
        "colab": {
          "base_uri": "https://localhost:8080/"
        },
        "id": "VGjqlaf1R5XG",
        "outputId": "150891d7-f7f6-4f13-90c2-d8de6c899979"
      },
      "source": [
        "from sklearn import metrics\n",
        "#evalution\n",
        "\n",
        "print(f'Mean Absolute Error: {metrics.mean_absolute_error(y_test,y_pred)}')\n",
        "print(f'Mean squared Error: {metrics.mean_squared_error(y_test,y_pred)}')\n",
        "print(f'Root Mean squared Error: {np.sqrt(metrics.mean_squared_error(y_test,y_pred))}')"
      ],
      "execution_count": 140,
      "outputs": [
        {
          "output_type": "stream",
          "name": "stdout",
          "text": [
            "Mean Absolute Error: 282.79201214747906\n",
            "Mean squared Error: 156710.49085983448\n",
            "Root Mean squared Error: 395.86675897305963\n"
          ]
        }
      ]
    },
    {
      "cell_type": "code",
      "metadata": {
        "colab": {
          "base_uri": "https://localhost:8080/"
        },
        "id": "9OWiQ0NZSFv1",
        "outputId": "bd745d73-d5c8-4e14-e170-afeaa588829a"
      },
      "source": [
        "import math\n",
        "# Train performance\n",
        "math.sqrt(mean_squared_error(y_train, y_pred_train))"
      ],
      "execution_count": 141,
      "outputs": [
        {
          "output_type": "execute_result",
          "data": {
            "text/plain": [
              "395.2754273031822"
            ]
          },
          "metadata": {},
          "execution_count": 141
        }
      ]
    },
    {
      "cell_type": "code",
      "metadata": {
        "colab": {
          "base_uri": "https://localhost:8080/"
        },
        "id": "pdRhCqKdSIAX",
        "outputId": "ff898155-eb1c-4680-c7d6-72290686b40e"
      },
      "source": [
        "# Test performance\n",
        "math.sqrt(mean_squared_error(y_test, y_pred))"
      ],
      "execution_count": 142,
      "outputs": [
        {
          "output_type": "execute_result",
          "data": {
            "text/plain": [
              "395.86675897305963"
            ]
          },
          "metadata": {},
          "execution_count": 142
        }
      ]
    },
    {
      "cell_type": "code",
      "metadata": {
        "colab": {
          "base_uri": "https://localhost:8080/"
        },
        "id": "gtEtulVySKLo",
        "outputId": "7dfff674-7105-4327-f3de-16d98d0389a4"
      },
      "source": [
        "r2_score(y_train, y_pred_train)"
      ],
      "execution_count": 143,
      "outputs": [
        {
          "output_type": "execute_result",
          "data": {
            "text/plain": [
              "0.6127705949934277"
            ]
          },
          "metadata": {},
          "execution_count": 143
        }
      ]
    },
    {
      "cell_type": "code",
      "metadata": {
        "colab": {
          "base_uri": "https://localhost:8080/"
        },
        "id": "JpKvrK-tSMS-",
        "outputId": "2e9463c3-16ab-4e99-bb52-aca3f643aa50"
      },
      "source": [
        "r2_score(y_test, y_pred)"
      ],
      "execution_count": 144,
      "outputs": [
        {
          "output_type": "execute_result",
          "data": {
            "text/plain": [
              "0.6139184453768529"
            ]
          },
          "metadata": {},
          "execution_count": 144
        }
      ]
    },
    {
      "cell_type": "markdown",
      "metadata": {
        "id": "DZqY0TVQSRfQ"
      },
      "source": [
        "### Lasso Model"
      ]
    },
    {
      "cell_type": "code",
      "metadata": {
        "colab": {
          "base_uri": "https://localhost:8080/"
        },
        "id": "hrZPGSq3SQ4c",
        "outputId": "5b7d2f75-75aa-481d-876e-161540e6d3fe"
      },
      "source": [
        "from sklearn.linear_model import Lasso\n",
        "lasso  = Lasso(alpha=0.01 , max_iter= 3000)\n",
        "lasso.fit(X_train, y_train)\n",
        "lasso.score(X_train, y_train)"
      ],
      "execution_count": 145,
      "outputs": [
        {
          "output_type": "execute_result",
          "data": {
            "text/plain": [
              "0.6127704125282993"
            ]
          },
          "metadata": {},
          "execution_count": 145
        }
      ]
    },
    {
      "cell_type": "markdown",
      "metadata": {
        "id": "ICwZrErCSjMd"
      },
      "source": [
        "#### Cross validation"
      ]
    },
    {
      "cell_type": "code",
      "metadata": {
        "id": "GKzaon3USewZ"
      },
      "source": [
        "from sklearn.model_selection import GridSearchCV"
      ],
      "execution_count": 146,
      "outputs": []
    },
    {
      "cell_type": "code",
      "metadata": {
        "colab": {
          "base_uri": "https://localhost:8080/"
        },
        "id": "nypOg5UdSrRb",
        "outputId": "a80899eb-d56e-4a53-d5fe-27c5c5fafc2c"
      },
      "source": [
        "### Cross validation\n",
        "lasso = Lasso()\n",
        "parameters = {'alpha': [1e-15,1e-13,1e-10,1e-8,1e-5,1e-4,1e-3,1e-2,1e-1,1,5,10,20,30,40,45,50,55,60,100]}\n",
        "lasso_regressor = GridSearchCV(lasso, parameters, scoring='neg_mean_squared_error', cv=3)\n",
        "lasso_regressor.fit(X_train, y_train)"
      ],
      "execution_count": 147,
      "outputs": [
        {
          "output_type": "execute_result",
          "data": {
            "text/plain": [
              "GridSearchCV(cv=3, error_score=nan,\n",
              "             estimator=Lasso(alpha=1.0, copy_X=True, fit_intercept=True,\n",
              "                             max_iter=1000, normalize=False, positive=False,\n",
              "                             precompute=False, random_state=None,\n",
              "                             selection='cyclic', tol=0.0001, warm_start=False),\n",
              "             iid='deprecated', n_jobs=None,\n",
              "             param_grid={'alpha': [1e-15, 1e-13, 1e-10, 1e-08, 1e-05, 0.0001,\n",
              "                                   0.001, 0.01, 0.1, 1, 5, 10, 20, 30, 40, 45,\n",
              "                                   50, 55, 60, 100]},\n",
              "             pre_dispatch='2*n_jobs', refit=True, return_train_score=False,\n",
              "             scoring='neg_mean_squared_error', verbose=0)"
            ]
          },
          "metadata": {},
          "execution_count": 147
        }
      ]
    },
    {
      "cell_type": "code",
      "metadata": {
        "colab": {
          "base_uri": "https://localhost:8080/"
        },
        "id": "-oWBy1DPS7SC",
        "outputId": "73879d01-32e1-4c64-b11a-689be71bfe1f"
      },
      "source": [
        "print(\"The best fit alpha value is found out to be :\" ,lasso_regressor.best_params_)\n",
        "print(\"\\nUsing \",lasso_regressor.best_params_, \" the negative mean squared error is: \", lasso_regressor.best_score_)"
      ],
      "execution_count": 148,
      "outputs": [
        {
          "output_type": "stream",
          "name": "stdout",
          "text": [
            "The best fit alpha value is found out to be : {'alpha': 1e-15}\n",
            "\n",
            "Using  {'alpha': 1e-15}  the negative mean squared error is:  -156254.5184622302\n"
          ]
        }
      ]
    },
    {
      "cell_type": "code",
      "metadata": {
        "id": "1iIspVNgTGDM"
      },
      "source": [
        "y_pred_train_lasso = lasso_regressor.predict(X_train)"
      ],
      "execution_count": 149,
      "outputs": []
    },
    {
      "cell_type": "code",
      "metadata": {
        "id": "NmhLnARuTG3d"
      },
      "source": [
        "y_pred_lasso = lasso_regressor.predict(X_test)"
      ],
      "execution_count": 150,
      "outputs": []
    },
    {
      "cell_type": "code",
      "metadata": {
        "colab": {
          "base_uri": "https://localhost:8080/"
        },
        "id": "G6wmRsr0TIPx",
        "outputId": "a0bb99f6-2358-409e-c276-c2ab71b05fb1"
      },
      "source": [
        "# Test performance\n",
        "math.sqrt(mean_squared_error(y_test, y_pred_lasso))"
      ],
      "execution_count": 151,
      "outputs": [
        {
          "output_type": "execute_result",
          "data": {
            "text/plain": [
              "395.86675897305963"
            ]
          },
          "metadata": {},
          "execution_count": 151
        }
      ]
    },
    {
      "cell_type": "code",
      "metadata": {
        "colab": {
          "base_uri": "https://localhost:8080/"
        },
        "id": "yLL8W65HTNI8",
        "outputId": "35d81917-5ce8-405c-f197-23da860a59ce"
      },
      "source": [
        "#train accuracy\n",
        "r2_score(y_train, y_pred_train_lasso)"
      ],
      "execution_count": 152,
      "outputs": [
        {
          "output_type": "execute_result",
          "data": {
            "text/plain": [
              "0.6127705949934277"
            ]
          },
          "metadata": {},
          "execution_count": 152
        }
      ]
    },
    {
      "cell_type": "code",
      "metadata": {
        "colab": {
          "base_uri": "https://localhost:8080/"
        },
        "id": "jqWCYpDLTPhM",
        "outputId": "1cb6be22-05ca-4b25-c6b0-3e2c2db46f3a"
      },
      "source": [
        "#test accuracy\n",
        "r2_score(y_test, y_pred_lasso)"
      ],
      "execution_count": 153,
      "outputs": [
        {
          "output_type": "execute_result",
          "data": {
            "text/plain": [
              "0.6139184453768529"
            ]
          },
          "metadata": {},
          "execution_count": 153
        }
      ]
    },
    {
      "cell_type": "markdown",
      "metadata": {
        "id": "bCyTBjhHURZR"
      },
      "source": [
        "#### Ridge Regression"
      ]
    },
    {
      "cell_type": "code",
      "metadata": {
        "colab": {
          "base_uri": "https://localhost:8080/"
        },
        "id": "pw7H0VKdTRgh",
        "outputId": "4227a248-6224-4c07-d7ce-7f395ec45ce1"
      },
      "source": [
        "from sklearn.linear_model import Ridge\n",
        "ridge  = Ridge(alpha=0.01)\n",
        "ridge.fit(X_train,y_train)\n",
        "ridge.score(X_train, y_train)"
      ],
      "execution_count": 154,
      "outputs": [
        {
          "output_type": "execute_result",
          "data": {
            "text/plain": [
              "0.6127705949897284"
            ]
          },
          "metadata": {},
          "execution_count": 154
        }
      ]
    },
    {
      "cell_type": "code",
      "metadata": {
        "id": "NMRxLFzFUcpG"
      },
      "source": [
        "y_pred_train_ridge = ridge.predict(X_train)"
      ],
      "execution_count": 155,
      "outputs": []
    },
    {
      "cell_type": "code",
      "metadata": {
        "id": "mlBV5pOpUiCj"
      },
      "source": [
        "y_pred_ridge = ridge.predict(X_test)"
      ],
      "execution_count": 156,
      "outputs": []
    },
    {
      "cell_type": "code",
      "metadata": {
        "colab": {
          "base_uri": "https://localhost:8080/"
        },
        "id": "k7aNkmMCUj_K",
        "outputId": "49bc6fc4-f529-4510-b607-921ab73310c7"
      },
      "source": [
        "import math\n",
        "# Train performance\n",
        "math.sqrt(mean_squared_error(y_train, y_pred_train_ridge))"
      ],
      "execution_count": 157,
      "outputs": [
        {
          "output_type": "execute_result",
          "data": {
            "text/plain": [
              "395.27542730507025"
            ]
          },
          "metadata": {},
          "execution_count": 157
        }
      ]
    },
    {
      "cell_type": "code",
      "metadata": {
        "colab": {
          "base_uri": "https://localhost:8080/"
        },
        "id": "TGFZrnI6UkyU",
        "outputId": "f8a2b7f0-bda9-4f87-e847-f201689bd0aa"
      },
      "source": [
        "# Test performance\n",
        "math.sqrt(mean_squared_error(y_test, y_pred_ridge))"
      ],
      "execution_count": 158,
      "outputs": [
        {
          "output_type": "execute_result",
          "data": {
            "text/plain": [
              "395.86676081913373"
            ]
          },
          "metadata": {},
          "execution_count": 158
        }
      ]
    },
    {
      "cell_type": "code",
      "metadata": {
        "colab": {
          "base_uri": "https://localhost:8080/"
        },
        "id": "Z5PLSZBFUt5D",
        "outputId": "925fb25b-46df-4966-8067-7c3b1db50a1f"
      },
      "source": [
        "#train accuracy\n",
        "r2_score(y_train, y_pred_train_ridge)"
      ],
      "execution_count": 159,
      "outputs": [
        {
          "output_type": "execute_result",
          "data": {
            "text/plain": [
              "0.6127705949897284"
            ]
          },
          "metadata": {},
          "execution_count": 159
        }
      ]
    },
    {
      "cell_type": "code",
      "metadata": {
        "colab": {
          "base_uri": "https://localhost:8080/"
        },
        "id": "-bOkIHKqUyb2",
        "outputId": "b97e3f9f-e3fc-4167-e114-1e184987aa12"
      },
      "source": [
        "#test accuracy\n",
        "r2_score(y_test, y_pred_ridge)"
      ],
      "execution_count": 160,
      "outputs": [
        {
          "output_type": "execute_result",
          "data": {
            "text/plain": [
              "0.6139184417759688"
            ]
          },
          "metadata": {},
          "execution_count": 160
        }
      ]
    },
    {
      "cell_type": "code",
      "metadata": {
        "colab": {
          "base_uri": "https://localhost:8080/"
        },
        "id": "OTr0EZuUU1zm",
        "outputId": "d511665b-cfd3-48e2-b30d-e40d847d8a77"
      },
      "source": [
        "##cross validation\n",
        "ridge = Ridge()\n",
        "parameters = {'alpha': [1e-15,1e-10,1e-8,1e-5,1e-4,1e-3,1e-2,1,5,10,20,30,40,45,50,55,60,100]}\n",
        "ridge_regressor = GridSearchCV(ridge, parameters, scoring='neg_mean_squared_error', cv=3)\n",
        "ridge_regressor.fit(X_train,y_train)"
      ],
      "execution_count": 161,
      "outputs": [
        {
          "output_type": "execute_result",
          "data": {
            "text/plain": [
              "GridSearchCV(cv=3, error_score=nan,\n",
              "             estimator=Ridge(alpha=1.0, copy_X=True, fit_intercept=True,\n",
              "                             max_iter=None, normalize=False, random_state=None,\n",
              "                             solver='auto', tol=0.001),\n",
              "             iid='deprecated', n_jobs=None,\n",
              "             param_grid={'alpha': [1e-15, 1e-10, 1e-08, 1e-05, 0.0001, 0.001,\n",
              "                                   0.01, 1, 5, 10, 20, 30, 40, 45, 50, 55, 60,\n",
              "                                   100]},\n",
              "             pre_dispatch='2*n_jobs', refit=True, return_train_score=False,\n",
              "             scoring='neg_mean_squared_error', verbose=0)"
            ]
          },
          "metadata": {},
          "execution_count": 161
        }
      ]
    },
    {
      "cell_type": "code",
      "metadata": {
        "colab": {
          "base_uri": "https://localhost:8080/"
        },
        "id": "0BUvtLWJU4SD",
        "outputId": "a14e7851-5c7a-4bf3-adbe-82696139af66"
      },
      "source": [
        "print(\"The best fit alpha value is found out to be :\" ,ridge_regressor.best_params_)\n",
        "print(\"\\nUsing \",ridge_regressor.best_params_, \" the negative mean squared error is: \", ridge_regressor.best_score_)"
      ],
      "execution_count": 163,
      "outputs": [
        {
          "output_type": "stream",
          "name": "stdout",
          "text": [
            "The best fit alpha value is found out to be : {'alpha': 1e-15}\n",
            "\n",
            "Using  {'alpha': 1e-15}  the negative mean squared error is:  -156254.5184622302\n"
          ]
        }
      ]
    },
    {
      "cell_type": "code",
      "metadata": {
        "id": "feEYwdbhU436"
      },
      "source": [
        "#Model Prediction\n",
        "#train \n",
        "y_pred_ridge_cv_train = ridge_regressor.predict(X_train)\n",
        "y_pred_ridge_cv = ridge_regressor.predict(X_test)"
      ],
      "execution_count": 162,
      "outputs": []
    },
    {
      "cell_type": "code",
      "metadata": {
        "colab": {
          "base_uri": "https://localhost:8080/"
        },
        "id": "AtqUwUCWU-8I",
        "outputId": "9ffee301-a727-4a9e-83c8-9ac320a20ef0"
      },
      "source": [
        "import math\n",
        "# Train performance\n",
        "math.sqrt(mean_squared_error(y_train, y_pred_ridge_cv_train))"
      ],
      "execution_count": 164,
      "outputs": [
        {
          "output_type": "execute_result",
          "data": {
            "text/plain": [
              "395.2754273031822"
            ]
          },
          "metadata": {},
          "execution_count": 164
        }
      ]
    },
    {
      "cell_type": "code",
      "metadata": {
        "colab": {
          "base_uri": "https://localhost:8080/"
        },
        "id": "pUR9WkqdVCpB",
        "outputId": "99b7ac46-cc8d-47a3-ce9b-7aab7f54831c"
      },
      "source": [
        "# Test performance\n",
        "math.sqrt(mean_squared_error(y_test, y_pred_ridge_cv))"
      ],
      "execution_count": 165,
      "outputs": [
        {
          "output_type": "execute_result",
          "data": {
            "text/plain": [
              "395.86675897305963"
            ]
          },
          "metadata": {},
          "execution_count": 165
        }
      ]
    },
    {
      "cell_type": "code",
      "metadata": {
        "colab": {
          "base_uri": "https://localhost:8080/"
        },
        "id": "PfLzehJHVEfi",
        "outputId": "011edb57-0e0a-4e8d-8b38-28e7cc93afd4"
      },
      "source": [
        "#train accuracy\n",
        "r2_score(y_train,  y_pred_ridge_cv_train)"
      ],
      "execution_count": 166,
      "outputs": [
        {
          "output_type": "execute_result",
          "data": {
            "text/plain": [
              "0.6127705949934277"
            ]
          },
          "metadata": {},
          "execution_count": 166
        }
      ]
    },
    {
      "cell_type": "code",
      "metadata": {
        "colab": {
          "base_uri": "https://localhost:8080/"
        },
        "id": "P5zlZsDTVJZr",
        "outputId": "07ed7bb9-b339-4fa6-ac6e-f78e0c0271f6"
      },
      "source": [
        "#test accuracy\n",
        "r2_score(y_test, y_pred_ridge_cv)"
      ],
      "execution_count": 167,
      "outputs": [
        {
          "output_type": "execute_result",
          "data": {
            "text/plain": [
              "0.6139184453768529"
            ]
          },
          "metadata": {},
          "execution_count": 167
        }
      ]
    },
    {
      "cell_type": "markdown",
      "metadata": {
        "id": "LlMrRnA7VM0w"
      },
      "source": [
        "### Decision Tree"
      ]
    },
    {
      "cell_type": "code",
      "metadata": {
        "id": "NsqNPyUSVPyI"
      },
      "source": [
        "from sklearn.tree import DecisionTreeRegressor"
      ],
      "execution_count": 168,
      "outputs": []
    },
    {
      "cell_type": "code",
      "metadata": {
        "colab": {
          "base_uri": "https://localhost:8080/"
        },
        "id": "QGD9v-kEVRzH",
        "outputId": "bed13d2d-4cf2-4f2b-fdff-0913969fef67"
      },
      "source": [
        "dt_reg = DecisionTreeRegressor( max_leaf_nodes=10, random_state=0)\n",
        "dt_reg.fit(X_train, y_train)"
      ],
      "execution_count": 169,
      "outputs": [
        {
          "output_type": "execute_result",
          "data": {
            "text/plain": [
              "DecisionTreeRegressor(ccp_alpha=0.0, criterion='mse', max_depth=None,\n",
              "                      max_features=None, max_leaf_nodes=10,\n",
              "                      min_impurity_decrease=0.0, min_impurity_split=None,\n",
              "                      min_samples_leaf=1, min_samples_split=2,\n",
              "                      min_weight_fraction_leaf=0.0, presort='deprecated',\n",
              "                      random_state=0, splitter='best')"
            ]
          },
          "metadata": {},
          "execution_count": 169
        }
      ]
    },
    {
      "cell_type": "code",
      "metadata": {
        "id": "Bd8u_0aSVTrk"
      },
      "source": [
        "dt_y_predicted_train = dt_reg.predict(X_train)"
      ],
      "execution_count": 170,
      "outputs": []
    },
    {
      "cell_type": "code",
      "metadata": {
        "id": "h66Jwba_VVnn"
      },
      "source": [
        "#prediction on test set\n",
        "dt_y_predicted =dt_reg.predict(X_test)"
      ],
      "execution_count": 171,
      "outputs": []
    },
    {
      "cell_type": "code",
      "metadata": {
        "colab": {
          "base_uri": "https://localhost:8080/"
        },
        "id": "pqnypE2SVXeX",
        "outputId": "66977d85-aa54-4274-fc79-f4aef3da5c4e"
      },
      "source": [
        "#measure accuracy/ test performance\n",
        "import math\n",
        "math.sqrt(mean_squared_error(y_test, dt_y_predicted))"
      ],
      "execution_count": 172,
      "outputs": [
        {
          "output_type": "execute_result",
          "data": {
            "text/plain": [
              "396.65998857879674"
            ]
          },
          "metadata": {},
          "execution_count": 172
        }
      ]
    },
    {
      "cell_type": "code",
      "metadata": {
        "colab": {
          "base_uri": "https://localhost:8080/"
        },
        "id": "mwJHH5EfVZpQ",
        "outputId": "ef00edea-3401-4cc2-8887-1436fa5a5201"
      },
      "source": [
        "# Train performance\n",
        "math.sqrt(mean_squared_error(y_train, dt_y_predicted_train))"
      ],
      "execution_count": 173,
      "outputs": [
        {
          "output_type": "execute_result",
          "data": {
            "text/plain": [
              "395.67142644564575"
            ]
          },
          "metadata": {},
          "execution_count": 173
        }
      ]
    },
    {
      "cell_type": "code",
      "metadata": {
        "colab": {
          "base_uri": "https://localhost:8080/"
        },
        "id": "uQ2XJEy5VbhZ",
        "outputId": "2fb581d8-0599-4ae9-d120-c7d3176134af"
      },
      "source": [
        "# Train performance\n",
        "r2_score(y_train, dt_y_predicted_train)"
      ],
      "execution_count": 174,
      "outputs": [
        {
          "output_type": "execute_result",
          "data": {
            "text/plain": [
              "0.6119943295675669"
            ]
          },
          "metadata": {},
          "execution_count": 174
        }
      ]
    },
    {
      "cell_type": "code",
      "metadata": {
        "colab": {
          "base_uri": "https://localhost:8080/"
        },
        "id": "2Xnl_j8gVdg8",
        "outputId": "dd0478c5-95b4-4fb2-a233-20e58ff769bf"
      },
      "source": [
        "#test performance\n",
        "r2_score(y_test,dt_y_predicted)"
      ],
      "execution_count": 175,
      "outputs": [
        {
          "output_type": "execute_result",
          "data": {
            "text/plain": [
              "0.6123696507764975"
            ]
          },
          "metadata": {},
          "execution_count": 175
        }
      ]
    }
  ]
}